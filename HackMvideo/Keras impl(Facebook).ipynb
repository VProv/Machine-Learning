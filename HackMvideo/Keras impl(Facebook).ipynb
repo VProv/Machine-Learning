{
 "cells": [
  {
   "cell_type": "markdown",
   "metadata": {},
   "source": [
    "### Решение вступительного задания хакатона М.Видео с использованием сверточной нейронной сети с представлениями слов от Facebook"
   ]
  },
  {
   "cell_type": "code",
   "execution_count": 1,
   "metadata": {},
   "outputs": [
    {
     "name": "stderr",
     "output_type": "stream",
     "text": [
      "Using TensorFlow backend.\n"
     ]
    }
   ],
   "source": [
    "import pandas as pd\n",
    "import numpy as np\n",
    "from sklearn.model_selection import train_test_split\n",
    "from sklearn.model_selection import train_test_split, StratifiedKFold\n",
    "from sklearn.metrics import accuracy_score\n",
    "import string\n",
    "import gensim\n",
    "from gensim.models import KeyedVectors\n",
    "from keras.preprocessing.text import Tokenizer\n",
    "from keras.preprocessing.sequence import pad_sequences\n",
    "from keras import Input\n",
    "from keras.utils import to_categorical"
   ]
  },
  {
   "cell_type": "code",
   "execution_count": 2,
   "metadata": {
    "collapsed": true
   },
   "outputs": [],
   "source": [
    "raw_data = pd.read_csv(\"X_train.csv\")"
   ]
  },
  {
   "cell_type": "code",
   "execution_count": 3,
   "metadata": {
    "collapsed": true
   },
   "outputs": [],
   "source": [
    "# Перемешаем наши данные.\n",
    "raw_data = raw_data.sample(frac=1)"
   ]
  },
  {
   "cell_type": "code",
   "execution_count": 4,
   "metadata": {},
   "outputs": [
    {
     "data": {
      "text/html": [
       "<div>\n",
       "<style>\n",
       "    .dataframe thead tr:only-child th {\n",
       "        text-align: right;\n",
       "    }\n",
       "\n",
       "    .dataframe thead th {\n",
       "        text-align: left;\n",
       "    }\n",
       "\n",
       "    .dataframe tbody tr th {\n",
       "        vertical-align: top;\n",
       "    }\n",
       "</style>\n",
       "<table border=\"1\" class=\"dataframe\">\n",
       "  <thead>\n",
       "    <tr style=\"text-align: right;\">\n",
       "      <th></th>\n",
       "      <th>sku</th>\n",
       "      <th>categoryLevel1Id</th>\n",
       "      <th>categoryLevel2Id</th>\n",
       "      <th>brandId</th>\n",
       "      <th>property</th>\n",
       "      <th>userName</th>\n",
       "      <th>reting</th>\n",
       "      <th>date</th>\n",
       "      <th>comment</th>\n",
       "      <th>commentNegative</th>\n",
       "      <th>commentPositive</th>\n",
       "    </tr>\n",
       "  </thead>\n",
       "  <tbody>\n",
       "    <tr>\n",
       "      <th>9313</th>\n",
       "      <td>20004410</td>\n",
       "      <td>413</td>\n",
       "      <td>4130301</td>\n",
       "      <td>10</td>\n",
       "      <td>[{34: '9ce895413ebdf6b6dcb69b07dc782591'}, {36...</td>\n",
       "      <td>def22edab63005cefd72998769aab8e5</td>\n",
       "      <td>4.7</td>\n",
       "      <td>2017-03-01</td>\n",
       "      <td>Легкая, почти безшумная, вибрация не чувствует...</td>\n",
       "      <td>Нет</td>\n",
       "      <td>Купили сыну в подарок на 23 февраля. Стрижемся...</td>\n",
       "    </tr>\n",
       "    <tr>\n",
       "      <th>3993</th>\n",
       "      <td>20025733</td>\n",
       "      <td>403</td>\n",
       "      <td>4030101</td>\n",
       "      <td>57</td>\n",
       "      <td>[{3: '3ef815416f775098fe977004015c6193'}, {1: ...</td>\n",
       "      <td>37339a5698d5e3ea0b50dd53c319f8b4</td>\n",
       "      <td>4.0</td>\n",
       "      <td>2013-03-29</td>\n",
       "      <td>Купили машинку в октябре и с радостью пользуем...</td>\n",
       "      <td>NaN</td>\n",
       "      <td>NaN</td>\n",
       "    </tr>\n",
       "    <tr>\n",
       "      <th>9992</th>\n",
       "      <td>20004251</td>\n",
       "      <td>413</td>\n",
       "      <td>4130201</td>\n",
       "      <td>759</td>\n",
       "      <td>[{34: '9ce895413ebdf6b6dcb69b07dc782591'}, {36...</td>\n",
       "      <td>6738f9acd4740d945178c649d6981734</td>\n",
       "      <td>5.0</td>\n",
       "      <td>2013-04-30</td>\n",
       "      <td>Подарили на восьмое марта, пользуюсь! Все рабо...</td>\n",
       "      <td>NaN</td>\n",
       "      <td>NaN</td>\n",
       "    </tr>\n",
       "  </tbody>\n",
       "</table>\n",
       "</div>"
      ],
      "text/plain": [
       "           sku  categoryLevel1Id  categoryLevel2Id  brandId  \\\n",
       "9313  20004410               413           4130301       10   \n",
       "3993  20025733               403           4030101       57   \n",
       "9992  20004251               413           4130201      759   \n",
       "\n",
       "                                               property  \\\n",
       "9313  [{34: '9ce895413ebdf6b6dcb69b07dc782591'}, {36...   \n",
       "3993  [{3: '3ef815416f775098fe977004015c6193'}, {1: ...   \n",
       "9992  [{34: '9ce895413ebdf6b6dcb69b07dc782591'}, {36...   \n",
       "\n",
       "                              userName  reting        date  \\\n",
       "9313  def22edab63005cefd72998769aab8e5     4.7  2017-03-01   \n",
       "3993  37339a5698d5e3ea0b50dd53c319f8b4     4.0  2013-03-29   \n",
       "9992  6738f9acd4740d945178c649d6981734     5.0  2013-04-30   \n",
       "\n",
       "                                                comment commentNegative  \\\n",
       "9313  Легкая, почти безшумная, вибрация не чувствует...             Нет   \n",
       "3993  Купили машинку в октябре и с радостью пользуем...             NaN   \n",
       "9992  Подарили на восьмое марта, пользуюсь! Все рабо...             NaN   \n",
       "\n",
       "                                        commentPositive  \n",
       "9313  Купили сыну в подарок на 23 февраля. Стрижемся...  \n",
       "3993                                                NaN  \n",
       "9992                                                NaN  "
      ]
     },
     "execution_count": 4,
     "metadata": {},
     "output_type": "execute_result"
    }
   ],
   "source": [
    "raw_data[:3]"
   ]
  },
  {
   "cell_type": "code",
   "execution_count": 5,
   "metadata": {
    "collapsed": true
   },
   "outputs": [],
   "source": [
    "raw_data = raw_data.rename(columns={'reting':'rating'})"
   ]
  },
  {
   "cell_type": "code",
   "execution_count": 6,
   "metadata": {},
   "outputs": [
    {
     "data": {
      "text/plain": [
       "sku                 False\n",
       "categoryLevel1Id    False\n",
       "categoryLevel2Id    False\n",
       "brandId             False\n",
       "property            False\n",
       "userName            False\n",
       "rating              False\n",
       "date                False\n",
       "comment             False\n",
       "commentNegative      True\n",
       "commentPositive      True\n",
       "dtype: bool"
      ]
     },
     "execution_count": 6,
     "metadata": {},
     "output_type": "execute_result"
    }
   ],
   "source": [
    "raw_data.isnull().any()"
   ]
  },
  {
   "cell_type": "code",
   "execution_count": 7,
   "metadata": {},
   "outputs": [
    {
     "data": {
      "text/plain": [
       "(15587, 11)"
      ]
     },
     "execution_count": 7,
     "metadata": {},
     "output_type": "execute_result"
    }
   ],
   "source": [
    "raw_data.shape"
   ]
  },
  {
   "cell_type": "code",
   "execution_count": 8,
   "metadata": {
    "collapsed": true
   },
   "outputs": [],
   "source": [
    "raw_data = raw_data.fillna(value=' ')"
   ]
  },
  {
   "cell_type": "code",
   "execution_count": 9,
   "metadata": {},
   "outputs": [
    {
     "data": {
      "text/plain": [
       "(2698,)"
      ]
     },
     "execution_count": 9,
     "metadata": {},
     "output_type": "execute_result"
    }
   ],
   "source": [
    "raw_data.sku.unique().shape"
   ]
  },
  {
   "cell_type": "code",
   "execution_count": 10,
   "metadata": {},
   "outputs": [
    {
     "data": {
      "text/plain": [
       "(48,)"
      ]
     },
     "execution_count": 10,
     "metadata": {},
     "output_type": "execute_result"
    }
   ],
   "source": [
    "raw_data.categoryLevel1Id.unique().shape"
   ]
  },
  {
   "cell_type": "code",
   "execution_count": 11,
   "metadata": {},
   "outputs": [
    {
     "data": {
      "text/plain": [
       "(164,)"
      ]
     },
     "execution_count": 11,
     "metadata": {},
     "output_type": "execute_result"
    }
   ],
   "source": [
    "raw_data.categoryLevel2Id.unique().shape"
   ]
  },
  {
   "cell_type": "code",
   "execution_count": 12,
   "metadata": {},
   "outputs": [
    {
     "data": {
      "text/plain": [
       "(193,)"
      ]
     },
     "execution_count": 12,
     "metadata": {},
     "output_type": "execute_result"
    }
   ],
   "source": [
    "raw_data.brandId.unique().shape"
   ]
  },
  {
   "cell_type": "code",
   "execution_count": 13,
   "metadata": {
    "scrolled": true
   },
   "outputs": [
    {
     "data": {
      "text/plain": [
       "array([ 4.7,  4. ,  5. ,  2. ,  3. ,  1. ,  2.7,  4.3,  3.3,  3.7,  2.3,\n",
       "        1.3,  1.7])"
      ]
     },
     "execution_count": 13,
     "metadata": {},
     "output_type": "execute_result"
    }
   ],
   "source": [
    "raw_data.rating.unique()"
   ]
  },
  {
   "cell_type": "markdown",
   "metadata": {},
   "source": [
    "** После нескольких тестов мы поняли что категориальные признаки почти не коррелируют с ответом, поэтому далее мы их учитывать не будем.**"
   ]
  },
  {
   "cell_type": "markdown",
   "metadata": {},
   "source": [
    "** Заметили что рейтинги бывают и дробными, округлим их до целых и будем решать задачу классификации.**"
   ]
  },
  {
   "cell_type": "code",
   "execution_count": 14,
   "metadata": {
    "collapsed": true
   },
   "outputs": [],
   "source": [
    "raw_data.rating = raw_data.rating.astype(int)"
   ]
  },
  {
   "cell_type": "code",
   "execution_count": 15,
   "metadata": {},
   "outputs": [
    {
     "data": {
      "text/plain": [
       "array([4, 5, 2, 3, 1])"
      ]
     },
     "execution_count": 15,
     "metadata": {},
     "output_type": "execute_result"
    }
   ],
   "source": [
    "raw_data.rating.unique()"
   ]
  },
  {
   "cell_type": "code",
   "execution_count": 16,
   "metadata": {
    "collapsed": true
   },
   "outputs": [],
   "source": [
    "usefull_columns = ['sku', 'categoryLevel1Id', \n",
    "                   'categoryLevel2Id', 'brandId', \n",
    "                   'comment', 'commentNegative', 'commentPositive']"
   ]
  },
  {
   "cell_type": "code",
   "execution_count": 17,
   "metadata": {
    "collapsed": true
   },
   "outputs": [],
   "source": [
    "data = raw_data[usefull_columns]\n",
    "target = raw_data['rating']"
   ]
  },
  {
   "cell_type": "code",
   "execution_count": 18,
   "metadata": {},
   "outputs": [
    {
     "name": "stdout",
     "output_type": "stream",
     "text": [
      "1:  1475 2:  883 3:  1277 4:  2741 5:  9211\n"
     ]
    }
   ],
   "source": [
    "print('1: ', np.sum(target==1), '2: ', np.sum(target==2), '3: ', np.sum(target==3), '4: ', \n",
    "      np.sum(target==4), '5: ', np.sum(target==5))"
   ]
  },
  {
   "cell_type": "markdown",
   "metadata": {},
   "source": [
    "** Сделаем target от 0 до 4, для многоклассовой классификации.**"
   ]
  },
  {
   "cell_type": "code",
   "execution_count": 19,
   "metadata": {
    "collapsed": true
   },
   "outputs": [],
   "source": [
    "target = target - 1"
   ]
  },
  {
   "cell_type": "code",
   "execution_count": 20,
   "metadata": {
    "collapsed": true
   },
   "outputs": [],
   "source": [
    "data_len = data.shape[0]\n",
    "class_weight = {0 : np.sum(target==0) / data_len,\n",
    "    1: np.sum(target==1) / data_len,\n",
    "    2: np.sum(target==2) / data_len,\n",
    "    3: np.sum(target==3) / data_len,\n",
    "    4: np.sum(target==4) / data_len,\n",
    "    }"
   ]
  },
  {
   "cell_type": "markdown",
   "metadata": {},
   "source": [
    "** Итак, мы получили данные без nan, разделенные на тренировочную и тестовую выборки.**"
   ]
  },
  {
   "cell_type": "code",
   "execution_count": 21,
   "metadata": {
    "collapsed": true
   },
   "outputs": [],
   "source": [
    "bag_data = data[data.columns[-3:]]"
   ]
  },
  {
   "cell_type": "code",
   "execution_count": 22,
   "metadata": {
    "scrolled": false
   },
   "outputs": [
    {
     "name": "stderr",
     "output_type": "stream",
     "text": [
      "/home/vprov/anaconda3/lib/python3.6/site-packages/ipykernel_launcher.py:3: SettingWithCopyWarning: \n",
      "A value is trying to be set on a copy of a slice from a DataFrame.\n",
      "Try using .loc[row_indexer,col_indexer] = value instead\n",
      "\n",
      "See the caveats in the documentation: http://pandas.pydata.org/pandas-docs/stable/indexing.html#indexing-view-versus-copy\n",
      "  This is separate from the ipykernel package so we can avoid doing imports until\n"
     ]
    }
   ],
   "source": [
    "# Сделаем одну колонку, содержащую всю текстовую информацию.\n",
    "bag_data['words'] = (bag_data.comment.astype(str) \n",
    "                     + ' ' + bag_data.commentNegative.astype(str) \n",
    "                     + ' ' + bag_data.commentPositive.astype(str))"
   ]
  },
  {
   "cell_type": "markdown",
   "metadata": {},
   "source": [
    "** Оставим одну колонку, где будет содержаться вся текстовая информация из отзыва. **"
   ]
  },
  {
   "cell_type": "code",
   "execution_count": 23,
   "metadata": {
    "collapsed": true
   },
   "outputs": [],
   "source": [
    "bag_data = bag_data['words']"
   ]
  },
  {
   "cell_type": "markdown",
   "metadata": {},
   "source": [
    "** Удалим все знаки препинания. **"
   ]
  },
  {
   "cell_type": "code",
   "execution_count": 25,
   "metadata": {
    "collapsed": true
   },
   "outputs": [],
   "source": [
    "exclude = set(string.punctuation)"
   ]
  },
  {
   "cell_type": "code",
   "execution_count": 26,
   "metadata": {
    "collapsed": true
   },
   "outputs": [],
   "source": [
    "bag_data = bag_data.values"
   ]
  },
  {
   "cell_type": "code",
   "execution_count": 27,
   "metadata": {
    "collapsed": true
   },
   "outputs": [],
   "source": [
    "for i,_ in enumerate(bag_data):\n",
    "    bag_data[i] = ''.join(ch for ch in bag_data[i] if ch not in exclude)"
   ]
  },
  {
   "cell_type": "markdown",
   "metadata": {},
   "source": [
    "** Загрузим натренированные заранее представления слов от Facebook. \n",
    "Их можно найти по этой ссылке: https://github.com/facebookresearch/fastText/blob/master/pretrained-vectors.md**"
   ]
  },
  {
   "cell_type": "code",
   "execution_count": 31,
   "metadata": {},
   "outputs": [
    {
     "name": "stdout",
     "output_type": "stream",
     "text": [
      "CPU times: user 12min 27s, sys: 5.82 s, total: 12min 32s\n",
      "Wall time: 12min 38s\n"
     ]
    }
   ],
   "source": [
    "%%time\n",
    "en_model = KeyedVectors.load_word2vec_format('data/wiki.ru.bin')"
   ]
  },
  {
   "cell_type": "code",
   "execution_count": 36,
   "metadata": {
    "scrolled": true
   },
   "outputs": [
    {
     "data": {
      "text/plain": [
       "array([  3.84939983e-02,   2.77289987e-01,   8.55579972e-02,\n",
       "        -6.22979999e-02,   1.06619999e-01,  -3.61369997e-02,\n",
       "         8.60600024e-02,   5.43989986e-03,   7.60649983e-03,\n",
       "         7.15039996e-03,  -5.65249994e-02,   2.36599997e-01,\n",
       "         3.27520013e-01,   2.85109997e-01,  -2.72850007e-01,\n",
       "        -1.72869995e-01,  -2.58990005e-02,  -3.16179991e-01,\n",
       "         1.58270001e-01,   2.57319987e-01,   2.44389996e-01,\n",
       "         8.20790008e-02,  -1.01499997e-01,   5.65720014e-02,\n",
       "         9.13420022e-02,   1.11769997e-01,  -2.24329997e-02,\n",
       "        -5.49070016e-02,   9.73820016e-02,  -3.89619991e-02,\n",
       "        -1.27869993e-01,  -2.31630006e-03,   1.03009999e-01,\n",
       "        -1.07210003e-01,  -6.75449986e-03,  -1.22249998e-01,\n",
       "         8.51989985e-02,  -1.02899998e-01,   3.64840001e-01,\n",
       "        -6.63900003e-02,   2.37029999e-01,  -1.96730003e-01,\n",
       "        -3.88859987e-01,  -1.68809995e-01,   1.48949996e-01,\n",
       "        -1.44060001e-01,  -2.35819995e-01,  -5.32040000e-02,\n",
       "        -1.67740002e-01,  -1.98039994e-01,   2.86760002e-01,\n",
       "        -1.61579996e-02,  -1.22479998e-01,   2.34760009e-02,\n",
       "         2.89669991e-01,   2.70900011e-01,  -1.09549999e-01,\n",
       "        -1.67420004e-02,  -1.96410000e-01,  -4.54839990e-02,\n",
       "         2.15159997e-01,  -1.23899996e-01,  -9.84390005e-02,\n",
       "         4.56370004e-02,  -1.61719993e-02,   5.77280000e-02,\n",
       "         1.23729996e-01,   1.82060003e-01,   1.07539997e-01,\n",
       "         3.98470014e-02,   2.17069998e-01,   8.44630003e-02,\n",
       "        -1.48350000e-01,  -1.30629996e-02,  -2.52090007e-01,\n",
       "        -9.93359983e-02,   2.04310000e-01,   4.82590012e-02,\n",
       "        -4.24449984e-03,   1.12180002e-01,   1.56580001e-01,\n",
       "         2.01010004e-01,  -3.31199989e-02,  -1.16230004e-01,\n",
       "         8.95280018e-02,  -5.14229983e-02,   4.02339995e-02,\n",
       "         6.76470017e-03,  -3.74750011e-02,   1.48900002e-01,\n",
       "        -1.83719993e-02,   4.03760001e-02,   7.78779984e-02,\n",
       "         7.99140036e-02,  -1.83249995e-01,  -9.33390036e-02,\n",
       "        -9.42969974e-03,  -1.03200004e-01,   7.24809989e-03,\n",
       "         9.37949959e-03,  -7.24299997e-02,  -7.76749977e-04,\n",
       "         9.32800025e-02,  -1.14960000e-01,   1.22900002e-01,\n",
       "        -1.40809998e-01,  -7.38959983e-02,   6.19419990e-03,\n",
       "         2.77590007e-02,   2.28569999e-01,   1.42729998e-01,\n",
       "         2.30199993e-01,   4.28990014e-02,   4.29299986e-03,\n",
       "        -1.00240000e-01,   3.27840000e-01,   1.27189994e-01,\n",
       "         2.32950002e-01,  -1.88500002e-01,  -1.43610001e-01,\n",
       "         1.73760001e-02,   5.75009994e-02,   3.13289985e-02,\n",
       "         7.75069967e-02,   8.98309983e-03,   7.80889988e-02,\n",
       "         1.49959996e-01,   7.21860006e-02,   2.19640002e-01,\n",
       "         1.36490002e-01,   3.64499986e-02,   1.66940000e-02,\n",
       "        -1.47909999e-01,  -1.38999999e-01,  -2.31659994e-01,\n",
       "         1.52140006e-01,  -1.85870007e-01,  -1.31649999e-02,\n",
       "         1.13389999e-01,   9.09769982e-02,  -1.23700000e-01,\n",
       "         7.95139968e-02,   1.41729996e-01,   1.42089993e-01,\n",
       "         6.20919988e-02,  -2.94160005e-02,  -1.76660001e-01,\n",
       "         1.84110001e-01,   8.46550018e-02,  -2.86589991e-02,\n",
       "         1.53929994e-01,  -4.07329984e-02,   8.04949999e-02,\n",
       "         2.44410001e-02,  -5.24609983e-02,  -8.06460008e-02,\n",
       "        -1.54860005e-01,   7.13369995e-03,  -4.83230017e-02,\n",
       "         1.00320000e-02,  -4.05209996e-02,  -8.42640027e-02,\n",
       "         8.35260004e-02,   4.97419983e-02,  -1.94330007e-01,\n",
       "        -3.11500002e-02,   1.15149997e-01,  -9.94689986e-02,\n",
       "         6.18950017e-02,   1.01609997e-01,   4.60559987e-02,\n",
       "         1.13629997e-01,  -4.10280004e-02,   2.15269998e-01,\n",
       "         1.82910003e-02,  -2.92680003e-02,  -1.54240001e-02,\n",
       "         6.71060011e-02,   5.05970009e-02,   4.08699998e-04,\n",
       "        -5.05589992e-02,   1.77300006e-01,  -5.24049997e-02,\n",
       "        -8.39110017e-02,  -1.61620006e-01,  -2.83659995e-01,\n",
       "        -1.67999994e-02,  -5.96709996e-02,   1.83819994e-01,\n",
       "         7.10240006e-02,  -4.72359993e-02,  -1.15350001e-01,\n",
       "        -7.85769969e-02,  -3.71199995e-01,  -2.25979999e-01,\n",
       "        -4.54950007e-03,  -7.06100017e-02,   1.16240000e-02,\n",
       "        -8.68019983e-02,  -1.67820007e-01,  -2.69169986e-01,\n",
       "         2.30000000e-02,  -3.72879989e-02,  -1.19680002e-01,\n",
       "        -4.89419997e-02,   2.71580011e-01,   1.62970006e-01,\n",
       "         2.33570002e-02,  -1.96820006e-01,   2.20769998e-02,\n",
       "        -4.34169993e-02,   1.00970000e-01,   1.88260004e-02,\n",
       "         2.25989997e-01,  -2.51020014e-01,  -2.69329995e-01,\n",
       "        -2.09490001e-01,   1.34800002e-01,   8.94989967e-02,\n",
       "        -7.73869976e-02,   2.87069995e-02,  -2.23020002e-01,\n",
       "         3.83270010e-02,   1.44360006e-01,  -1.17800003e-02,\n",
       "         3.85809988e-01,  -5.16309999e-02,   6.63940012e-02,\n",
       "        -5.80799989e-02,   2.64539987e-01,  -1.14139998e-02,\n",
       "         2.60690004e-02,   5.37909985e-01,  -4.41859998e-02,\n",
       "        -8.91060010e-03,  -6.45809993e-02,  -6.58819973e-02,\n",
       "        -3.63080017e-02,   2.51969993e-01,   7.32119977e-02,\n",
       "        -1.51309997e-01,   9.02649984e-02,   4.03920002e-02,\n",
       "         5.32150008e-02,   2.15869993e-01,   2.58319993e-02,\n",
       "         1.16020001e-01,  -1.28399998e-01,   3.01959999e-02,\n",
       "         1.41059995e-01,   9.47540030e-02,  -3.36039990e-01,\n",
       "         9.35800001e-02,   1.36399999e-01,   3.24020013e-02,\n",
       "        -7.90660009e-02,   1.48139998e-01,   2.96119988e-01,\n",
       "        -2.24800006e-01,   1.19460002e-01,  -2.48030007e-01,\n",
       "        -5.44500016e-02,  -5.70049994e-02,   1.54510006e-01,\n",
       "        -1.96539998e-01,   1.63259998e-01,  -3.36740017e-02,\n",
       "         2.54980009e-02,   1.19369999e-01,  -4.83349990e-03,\n",
       "        -2.08630003e-02,   2.13560000e-01,  -7.64029995e-02,\n",
       "        -1.62570000e-01,  -2.27320001e-01,   1.82859991e-02,\n",
       "         1.29679993e-01,   5.05549982e-02,   1.40349995e-02,\n",
       "         4.22560014e-02,  -2.30800003e-01,  -2.16409996e-01,\n",
       "        -1.55599996e-01,   6.23230003e-02,  -8.37609991e-02,\n",
       "         3.16830009e-01,   2.62809992e-02,  -2.82480009e-02,\n",
       "         3.79710011e-02,  -2.03219995e-01,   2.21780002e-01,\n",
       "        -4.34169993e-02,  -1.92420006e-01,  -4.28869985e-02,\n",
       "         3.27820003e-01,   6.76629990e-02,   1.89229995e-01,\n",
       "        -1.40009999e-01,   6.79029971e-02,   8.22990015e-02], dtype=float32)"
      ]
     },
     "execution_count": 36,
     "metadata": {},
     "output_type": "execute_result"
    }
   ],
   "source": [
    "en_model.word_vec(\"как\")"
   ]
  },
  {
   "cell_type": "code",
   "execution_count": 38,
   "metadata": {
    "collapsed": true
   },
   "outputs": [],
   "source": [
    "tokenizer = Tokenizer()"
   ]
  },
  {
   "cell_type": "code",
   "execution_count": 39,
   "metadata": {
    "collapsed": true
   },
   "outputs": [],
   "source": [
    "tokenizer.fit_on_texts(bag_data)"
   ]
  },
  {
   "cell_type": "code",
   "execution_count": 40,
   "metadata": {
    "collapsed": true
   },
   "outputs": [],
   "source": [
    "sequences = tokenizer.texts_to_sequences(bag_data)"
   ]
  },
  {
   "cell_type": "code",
   "execution_count": 41,
   "metadata": {},
   "outputs": [
    {
     "name": "stdout",
     "output_type": "stream",
     "text": [
      "Found 71732 unique tokens.\n"
     ]
    }
   ],
   "source": [
    "word_index = tokenizer.word_index\n",
    "print('Found %s unique tokens.' % len(word_index))"
   ]
  },
  {
   "cell_type": "code",
   "execution_count": 42,
   "metadata": {
    "collapsed": true
   },
   "outputs": [],
   "source": [
    "# Сделали последовательность (num_samples, num_timestamps)\n",
    "MAX_SEQUENCE_LENGTH = 50\n",
    "data = pad_sequences(sequences, maxlen=MAX_SEQUENCE_LENGTH)"
   ]
  },
  {
   "cell_type": "code",
   "execution_count": 43,
   "metadata": {},
   "outputs": [
    {
     "data": {
      "text/plain": [
       "(15587, 50)"
      ]
     },
     "execution_count": 43,
     "metadata": {},
     "output_type": "execute_result"
    }
   ],
   "source": [
    "data.shape"
   ]
  },
  {
   "cell_type": "code",
   "execution_count": 44,
   "metadata": {
    "collapsed": true
   },
   "outputs": [],
   "source": [
    "labels = to_categorical(target)"
   ]
  },
  {
   "cell_type": "code",
   "execution_count": 46,
   "metadata": {
    "collapsed": true
   },
   "outputs": [],
   "source": [
    "# Мы используем заранее натренированные векторы размера 300.\n",
    "EMBEDDING_DIM = 300\n",
    "embedding_matrix = np.random.random((len(word_index) + 1, EMBEDDING_DIM))"
   ]
  },
  {
   "cell_type": "code",
   "execution_count": 64,
   "metadata": {
    "collapsed": true
   },
   "outputs": [],
   "source": [
    "embeddings_index = {}"
   ]
  },
  {
   "cell_type": "markdown",
   "metadata": {},
   "source": [
    "Не все слова есть в этой модели."
   ]
  },
  {
   "cell_type": "code",
   "execution_count": 52,
   "metadata": {
    "collapsed": true
   },
   "outputs": [],
   "source": [
    "for word, i in word_index.items():\n",
    "    if word in en_model.vocab:\n",
    "        embedding_vector = en_model.word_vec(\"как\")\n",
    "        # words not found in embedding index will be all-zeros.\n",
    "        embedding_matrix[i] = embedding_vector"
   ]
  },
  {
   "cell_type": "code",
   "execution_count": 54,
   "metadata": {
    "collapsed": true
   },
   "outputs": [],
   "source": [
    "sequence_input = Input(shape=(MAX_SEQUENCE_LENGTH,), dtype='int32')"
   ]
  },
  {
   "cell_type": "code",
   "execution_count": 55,
   "metadata": {
    "collapsed": true
   },
   "outputs": [],
   "source": [
    "from keras.layers.embeddings import Embedding\n",
    "from keras.layers.convolutional import Conv1D\n",
    "from keras.layers.convolutional import MaxPooling1D\n",
    "from keras.layers.core import Dense\n",
    "from keras.layers.core import Flatten\n",
    "from keras.models import Model\n",
    "from keras import optimizers"
   ]
  },
  {
   "cell_type": "markdown",
   "metadata": {},
   "source": [
    "** Решим задачу с помощью сверточной нейронной сети. Эти модели хорошо зарекомендовали себя на обработке текстов.**"
   ]
  },
  {
   "cell_type": "code",
   "execution_count": 56,
   "metadata": {
    "collapsed": true
   },
   "outputs": [],
   "source": [
    "embedding_layer = Embedding(len(word_index) + 1,\n",
    "                            EMBEDDING_DIM,\n",
    "                            weights=[embedding_matrix],\n",
    "                            input_length=MAX_SEQUENCE_LENGTH,\n",
    "                            #trainable=False\n",
    "                           )"
   ]
  },
  {
   "cell_type": "code",
   "execution_count": 57,
   "metadata": {
    "collapsed": true
   },
   "outputs": [],
   "source": [
    "embedded_sequences = embedding_layer(sequence_input)"
   ]
  },
  {
   "cell_type": "code",
   "execution_count": 58,
   "metadata": {
    "collapsed": true
   },
   "outputs": [],
   "source": [
    "l_cov1= Conv1D(filters=128, kernel_size=3, activation='relu')(embedded_sequences)\n",
    "l_pool1 = MaxPooling1D(3)(l_cov1)\n",
    "l_cov2 = Conv1D(128, 3, activation='relu')(l_pool1)\n",
    "l_pool2 = MaxPooling1D(3)(l_cov2)\n",
    "l_cov3 = Conv1D(128, 3, activation='relu')(l_pool2)\n",
    "l_pool3 = MaxPooling1D(2)(l_cov3)  # global max pooling\n",
    "l_flat = Flatten()(l_pool3)\n",
    "l_dense = Dense(128, activation='relu')(l_flat)\n",
    "preds = Dense(5, activation='softmax')(l_dense)"
   ]
  },
  {
   "cell_type": "code",
   "execution_count": 59,
   "metadata": {
    "collapsed": true
   },
   "outputs": [],
   "source": [
    "model = Model(sequence_input, preds)"
   ]
  },
  {
   "cell_type": "code",
   "execution_count": 60,
   "metadata": {
    "collapsed": true
   },
   "outputs": [],
   "source": [
    "#Adam = optimizers.Adam(lr=0.05)\n",
    "#prop = optimizers.rmsprop(lr=0.05)\n",
    "model.compile(loss='categorical_crossentropy',\n",
    "              optimizer='rmsprop',\n",
    "              #optimizer=Adam,\n",
    "              metrics=['acc'])"
   ]
  },
  {
   "cell_type": "code",
   "execution_count": 61,
   "metadata": {},
   "outputs": [
    {
     "data": {
      "text/plain": [
       "(71733, 300)"
      ]
     },
     "execution_count": 61,
     "metadata": {},
     "output_type": "execute_result"
    }
   ],
   "source": [
    "embedding_matrix.shape"
   ]
  },
  {
   "cell_type": "code",
   "execution_count": 62,
   "metadata": {
    "collapsed": true
   },
   "outputs": [],
   "source": [
    "X_train, X_test, y_train, y_test = train_test_split(data, labels, test_size=0.3, random_state=5)"
   ]
  },
  {
   "cell_type": "code",
   "execution_count": 63,
   "metadata": {},
   "outputs": [
    {
     "data": {
      "text/plain": [
       "(10910, 50)"
      ]
     },
     "execution_count": 63,
     "metadata": {},
     "output_type": "execute_result"
    }
   ],
   "source": [
    "X_train.shape"
   ]
  },
  {
   "cell_type": "code",
   "execution_count": 64,
   "metadata": {},
   "outputs": [
    {
     "data": {
      "text/plain": [
       "(10910, 5)"
      ]
     },
     "execution_count": 64,
     "metadata": {},
     "output_type": "execute_result"
    }
   ],
   "source": [
    "y_train.shape"
   ]
  },
  {
   "cell_type": "code",
   "execution_count": 65,
   "metadata": {},
   "outputs": [
    {
     "name": "stdout",
     "output_type": "stream",
     "text": [
      "Epoch 1/10\n",
      "10910/10910 [==============================] - 28s - loss: 0.2231 - acc: 0.5821    \n",
      "Epoch 2/10\n",
      "10910/10910 [==============================] - 15s - loss: 0.2051 - acc: 0.5884    \n",
      "Epoch 3/10\n",
      "10910/10910 [==============================] - 15s - loss: 0.1929 - acc: 0.5885    \n",
      "Epoch 4/10\n",
      "10910/10910 [==============================] - 15s - loss: 0.1729 - acc: 0.5933    \n",
      "Epoch 5/10\n",
      "10910/10910 [==============================] - 15s - loss: 0.1547 - acc: 0.6281    \n",
      "Epoch 6/10\n",
      "10910/10910 [==============================] - 15s - loss: 0.1376 - acc: 0.6520    \n",
      "Epoch 7/10\n",
      "10910/10910 [==============================] - 15s - loss: 0.1222 - acc: 0.6831    \n",
      "Epoch 8/10\n",
      "10910/10910 [==============================] - 15s - loss: 0.1076 - acc: 0.7079    \n",
      "Epoch 9/10\n",
      "10910/10910 [==============================] - 15s - loss: 0.0953 - acc: 0.7300    \n",
      "Epoch 10/10\n",
      "10910/10910 [==============================] - 15s - loss: 0.0830 - acc: 0.7515    \n",
      "CPU times: user 2min, sys: 36 s, total: 2min 36s\n",
      "Wall time: 2min 49s\n"
     ]
    },
    {
     "data": {
      "text/plain": [
       "<keras.callbacks.History at 0x7f0b0e4965c0>"
      ]
     },
     "execution_count": 65,
     "metadata": {},
     "output_type": "execute_result"
    }
   ],
   "source": [
    "%%time\n",
    "model.fit(X_train, y_train,\n",
    "          epochs=10, \n",
    "          class_weight=class_weight,\n",
    "          batch_size=128)"
   ]
  },
  {
   "cell_type": "code",
   "execution_count": 66,
   "metadata": {
    "collapsed": true
   },
   "outputs": [],
   "source": [
    "pred = model.predict(X_test)"
   ]
  },
  {
   "cell_type": "markdown",
   "metadata": {},
   "source": [
    "** Предсказание модели для каждого комментария это вектор размера 5(количество классов), где в каждой из ячеек написана вероятность принадлежности этому классу.**"
   ]
  },
  {
   "cell_type": "code",
   "execution_count": 67,
   "metadata": {
    "collapsed": true
   },
   "outputs": [],
   "source": [
    "prediction = []\n",
    "for raw in pred:\n",
    "    prediction.append(np.argmax(raw))"
   ]
  },
  {
   "cell_type": "code",
   "execution_count": 68,
   "metadata": {
    "collapsed": true
   },
   "outputs": [],
   "source": [
    "prediction = np.array(prediction)"
   ]
  },
  {
   "cell_type": "code",
   "execution_count": 69,
   "metadata": {},
   "outputs": [
    {
     "data": {
      "text/plain": [
       "array([4, 4, 3, 0, 4])"
      ]
     },
     "execution_count": 69,
     "metadata": {},
     "output_type": "execute_result"
    }
   ],
   "source": [
    "prediction[:5]"
   ]
  },
  {
   "cell_type": "code",
   "execution_count": 70,
   "metadata": {
    "collapsed": true
   },
   "outputs": [],
   "source": [
    "true = []\n",
    "for raw in y_test:\n",
    "    true.append(np.argmax(raw))"
   ]
  },
  {
   "cell_type": "code",
   "execution_count": 71,
   "metadata": {
    "collapsed": true
   },
   "outputs": [],
   "source": [
    "true = np.array(true)"
   ]
  },
  {
   "cell_type": "code",
   "execution_count": 72,
   "metadata": {},
   "outputs": [
    {
     "data": {
      "text/plain": [
       "array([1, 4, 4, 0, 3])"
      ]
     },
     "execution_count": 72,
     "metadata": {},
     "output_type": "execute_result"
    }
   ],
   "source": [
    "true[:5]"
   ]
  },
  {
   "cell_type": "code",
   "execution_count": 73,
   "metadata": {},
   "outputs": [
    {
     "data": {
      "text/plain": [
       "0.59119093435963221"
      ]
     },
     "execution_count": 73,
     "metadata": {},
     "output_type": "execute_result"
    }
   ],
   "source": [
    "accuracy_score(y_pred=prediction, y_true=true)"
   ]
  },
  {
   "cell_type": "markdown",
   "metadata": {},
   "source": [
    "Но сложно что-то сказать по этой метрике, поэтому сделаем метрику поподробнее."
   ]
  },
  {
   "cell_type": "code",
   "execution_count": 74,
   "metadata": {
    "collapsed": true
   },
   "outputs": [],
   "source": [
    "def get_metrics(prediction, y_true):\n",
    "    for i in range(5):\n",
    "        true_positive = 1\n",
    "        false_positive = 1\n",
    "        true_negative = 1\n",
    "        false_negative = 1\n",
    "        for ind, ans in enumerate(prediction):\n",
    "            if ans == i and y_true[ind]==i:\n",
    "                true_positive += 1\n",
    "            elif ans == i and y_true[ind] !=i:\n",
    "                false_positive += 1\n",
    "            elif ans != i and y_true[ind]==i:\n",
    "                false_negative += 1\n",
    "            else:\n",
    "                true_negative += 1\n",
    "        print(\"Class number: \", i, \"true_positive: \", true_positive, \"false positive: \", false_positive, '\\n',\n",
    "             \"false negative: \", false_negative, \"true negative: \", true_negative)\n",
    "        print(\"Accuracy: \", (true_positive + true_negative) / (true_positive + false_positive + true_negative +\n",
    "                                                              false_negative))\n",
    "        print(\"Recall: \", true_positive / (true_positive + false_negative))\n",
    "        print(\"Precision: \", true_positive / (true_positive + false_positive))"
   ]
  },
  {
   "cell_type": "code",
   "execution_count": 75,
   "metadata": {},
   "outputs": [
    {
     "name": "stdout",
     "output_type": "stream",
     "text": [
      "Class number:  0 true_positive:  110 false positive:  191 \n",
      " false negative:  344 true negative:  4036\n",
      "Accuracy:  0.8857081820123905\n",
      "Recall:  0.2422907488986784\n",
      "Precision:  0.3654485049833887\n",
      "Class number:  1 true_positive:  1 false positive:  1 \n",
      " false negative:  254 true negative:  4425\n",
      "Accuracy:  0.945524460585345\n",
      "Recall:  0.00392156862745098\n",
      "Precision:  0.5\n",
      "Class number:  2 true_positive:  4 false positive:  8 \n",
      " false negative:  391 true negative:  4278\n",
      "Accuracy:  0.9147618030335398\n",
      "Recall:  0.010126582278481013\n",
      "Precision:  0.3333333333333333\n",
      "Class number:  3 true_positive:  191 false positive:  668 \n",
      " false negative:  598 true negative:  3224\n",
      "Accuracy:  0.7295449690237129\n",
      "Recall:  0.2420785804816223\n",
      "Precision:  0.22235157159487776\n",
      "Class number:  4 true_positive:  2464 false positive:  1049 \n",
      " false negative:  330 true negative:  838\n",
      "Accuracy:  0.7054048280281991\n",
      "Recall:  0.8818897637795275\n",
      "Precision:  0.7013948192428124\n"
     ]
    }
   ],
   "source": [
    "get_metrics(prediction, true)"
   ]
  },
  {
   "cell_type": "markdown",
   "metadata": {
    "collapsed": true
   },
   "source": [
    "** Вывод: Нам удалось построить сеть, которая довольно хорошо классифицирует отзывы.\n",
    "Лучше всего наша сеть предсказывает последний класс(оценка 5), этого класса на много больше чем остальных и в тестовых и в тренировочных данных. Она плохо определяет классы с оценками 3 и 4, но как видно очень плохие отзывы она видит и классифицирует с оценкой 1.**"
   ]
  },
  {
   "cell_type": "code",
   "execution_count": null,
   "metadata": {
    "collapsed": true
   },
   "outputs": [],
   "source": []
  },
  {
   "cell_type": "code",
   "execution_count": null,
   "metadata": {
    "collapsed": true
   },
   "outputs": [],
   "source": []
  }
 ],
 "metadata": {
  "kernelspec": {
   "display_name": "Python 3",
   "language": "python",
   "name": "python3"
  },
  "language_info": {
   "codemirror_mode": {
    "name": "ipython",
    "version": 3
   },
   "file_extension": ".py",
   "mimetype": "text/x-python",
   "name": "python",
   "nbconvert_exporter": "python",
   "pygments_lexer": "ipython3",
   "version": "3.6.2"
  }
 },
 "nbformat": 4,
 "nbformat_minor": 2
}
