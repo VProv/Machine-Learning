{
 "cells": [
  {
   "cell_type": "code",
   "execution_count": null,
   "metadata": {
    "collapsed": true
   },
   "outputs": [],
   "source": [
    "#According to this article https://arxiv.org/abs/1705.00105."
   ]
  },
  {
   "cell_type": "code",
   "execution_count": 1,
   "metadata": {
    "collapsed": true
   },
   "outputs": [],
   "source": [
    "import torch\n",
    "import torch.autograd as autograd\n",
    "from torch.autograd import Variable\n",
    "import torch.optim as optim\n",
    "import torch.nn as nn\n",
    "import torch.nn.functional as F\n",
    "import pandas as pd\n",
    "import numpy as np\n",
    "from sklearn.model_selection import train_test_split\n",
    "# import matplotlib as plt\n",
    "from matplotlib import pyplot as plt\n",
    "import random\n",
    "import seaborn as sns\n",
    "%matplotlib inline\n",
    "pd.options.display.max_columns = 100"
   ]
  },
  {
   "cell_type": "code",
   "execution_count": 2,
   "metadata": {
    "collapsed": true
   },
   "outputs": [],
   "source": [
    "raw_pay_train = pd.read_csv('train.csv')[:300000]\n",
    "raw_pay_test = pd.read_csv('test.csv')[:300000]"
   ]
  },
  {
   "cell_type": "code",
   "execution_count": 3,
   "metadata": {},
   "outputs": [
    {
     "data": {
      "text/plain": [
       "(300000, 58)"
      ]
     },
     "execution_count": 3,
     "metadata": {},
     "output_type": "execute_result"
    }
   ],
   "source": [
    "raw_pay_train.shape"
   ]
  },
  {
   "cell_type": "code",
   "execution_count": 4,
   "metadata": {},
   "outputs": [
    {
     "data": {
      "text/plain": [
       "(300000, 59)"
      ]
     },
     "execution_count": 4,
     "metadata": {},
     "output_type": "execute_result"
    }
   ],
   "source": [
    "raw_pay_test.shape"
   ]
  },
  {
   "cell_type": "code",
   "execution_count": 77,
   "metadata": {},
   "outputs": [
    {
     "data": {
      "text/plain": [
       "0     0.094793\n",
       "1     0.293893\n",
       "2     0.107256\n",
       "3     0.086133\n",
       "4     0.069720\n",
       "5     0.088619\n",
       "6     0.046427\n",
       "7     0.025312\n",
       "8     0.023263\n",
       "9     0.012050\n",
       "10    0.005016\n",
       "11    0.013705\n",
       "12    0.008230\n",
       "13    0.031046\n",
       "14    0.011314\n",
       "15    0.010366\n",
       "16    0.000819\n",
       "17    0.003229\n",
       "18    0.008448\n",
       "19    0.002703\n",
       "20    0.006868\n",
       "21    0.003924\n",
       "22    0.018710\n",
       "23    0.002836\n",
       "24    0.002225\n",
       "25    0.001605\n",
       "26    0.005780\n",
       "27    0.001469\n",
       "28    0.004426\n",
       "29    0.000909\n",
       "30    0.001598\n",
       "31    0.000508\n",
       "32    0.000114\n",
       "33    0.002074\n",
       "34    0.000451\n",
       "35    0.000151\n",
       "36    0.000297\n",
       "37    0.001140\n",
       "38    0.000249\n",
       "39    0.000154\n",
       "40    0.000586\n",
       "41    0.000474\n",
       "42    0.000077\n",
       "43    0.000293\n",
       "44    0.000066\n",
       "45    0.000021\n",
       "46    0.000225\n",
       "47    0.000021\n",
       "48    0.000026\n",
       "49    0.000031\n",
       "50    0.000038\n",
       "51    0.000069\n",
       "52    0.000010\n",
       "53    0.000003\n",
       "54    0.000001\n",
       "55    0.000007\n",
       "56    0.000002\n",
       "dtype: float64"
      ]
     },
     "execution_count": 77,
     "metadata": {},
     "output_type": "execute_result"
    }
   ],
   "source": [
    "raw_pay_train[raw_pay_train.columns[1:]].mean()"
   ]
  },
  {
   "cell_type": "code",
   "execution_count": 79,
   "metadata": {},
   "outputs": [
    {
     "data": {
      "text/plain": [
       "array([54, 56, 53, 55, 52, 45, 47, 48, 49, 50, 44, 51, 42, 32, 35, 39, 46,\n",
       "       38, 43, 36, 34, 41, 31, 40, 16, 29, 37, 27, 30, 25, 33, 24, 19, 23,\n",
       "       17, 21, 28, 10, 26, 20, 12, 18, 15, 14,  9, 11, 22,  8,  7, 13,  6,\n",
       "        4,  3,  5,  0,  2,  1])"
      ]
     },
     "execution_count": 79,
     "metadata": {},
     "output_type": "execute_result"
    }
   ],
   "source": [
    "np.array(list(raw_pay_train[raw_pay_train.columns[1:]].mean())).argsort()"
   ]
  },
  {
   "cell_type": "code",
   "execution_count": 5,
   "metadata": {},
   "outputs": [
    {
     "name": "stdout",
     "output_type": "stream",
     "text": [
      "CPU times: user 124 ms, sys: 8 ms, total: 132 ms\n",
      "Wall time: 128 ms\n"
     ]
    }
   ],
   "source": [
    "%%time\n",
    "non_zero_indexes = np.argwhere((raw_pay_train.iloc[:, :].loc[:, [str(i) for i in list(range(0,57))] ] > 0).values )"
   ]
  },
  {
   "cell_type": "code",
   "execution_count": 6,
   "metadata": {
    "collapsed": true
   },
   "outputs": [],
   "source": [
    "indx_df = pd.DataFrame(non_zero_indexes)  "
   ]
  },
  {
   "cell_type": "code",
   "execution_count": 7,
   "metadata": {
    "collapsed": true
   },
   "outputs": [],
   "source": [
    "#indx_df[1] += 1"
   ]
  },
  {
   "cell_type": "code",
   "execution_count": 8,
   "metadata": {
    "collapsed": true
   },
   "outputs": [],
   "source": [
    "triplets = pd.merge(indx_df, indx_df, on=indx_df.columns[0])"
   ]
  },
  {
   "cell_type": "code",
   "execution_count": 9,
   "metadata": {
    "collapsed": true
   },
   "outputs": [],
   "source": [
    "col = triplets.columns"
   ]
  },
  {
   "cell_type": "code",
   "execution_count": 10,
   "metadata": {
    "collapsed": true
   },
   "outputs": [],
   "source": [
    "triplets = triplets[triplets['1_x'] != triplets['1_y']]"
   ]
  },
  {
   "cell_type": "code",
   "execution_count": 11,
   "metadata": {},
   "outputs": [
    {
     "data": {
      "text/plain": [
       "array([[  4.74000000e+02,   0.00000000e+00,   1.10000000e-01, ...,\n",
       "          0.00000000e+00,   0.00000000e+00,   0.00000000e+00],\n",
       "       [  2.25000000e+03,   0.00000000e+00,   1.00000000e+00, ...,\n",
       "          0.00000000e+00,   0.00000000e+00,   0.00000000e+00],\n",
       "       [  2.45300000e+03,   0.00000000e+00,   1.20000000e-01, ...,\n",
       "          0.00000000e+00,   0.00000000e+00,   0.00000000e+00],\n",
       "       ..., \n",
       "       [  2.09340000e+04,   1.00000000e-02,   9.80000000e-01, ...,\n",
       "          0.00000000e+00,   0.00000000e+00,   0.00000000e+00],\n",
       "       [  3.41410000e+04,   0.00000000e+00,   0.00000000e+00, ...,\n",
       "          0.00000000e+00,   0.00000000e+00,   0.00000000e+00],\n",
       "       [  4.46740000e+04,   0.00000000e+00,   9.20000000e-01, ...,\n",
       "          0.00000000e+00,   0.00000000e+00,   0.00000000e+00]])"
      ]
     },
     "execution_count": 11,
     "metadata": {},
     "output_type": "execute_result"
    }
   ],
   "source": [
    "raw_pay_train.values"
   ]
  },
  {
   "cell_type": "code",
   "execution_count": 13,
   "metadata": {},
   "outputs": [
    {
     "name": "stdout",
     "output_type": "stream",
     "text": [
      "CPU times: user 6.73 s, sys: 12 ms, total: 6.74 s\n",
      "Wall time: 6.75 s\n"
     ]
    }
   ],
   "source": [
    "%%time\n",
    "train_data = raw_pay_train.values    \n",
    "trip_data = triplets.values\n",
    "l = triplets.shape[0]\n",
    "val = np.zeros(l)\n",
    "for i in range(l):\n",
    "    row = trip_data[i][0]\n",
    "    x = trip_data[i][1] + 1\n",
    "    y = trip_data[i][2] + 1\n",
    "    if train_data[row][x] >= train_data[row][y]:\n",
    "        val[i] = 1.\n",
    "    else:\n",
    "        val[i] = -1."
   ]
  },
  {
   "cell_type": "code",
   "execution_count": 14,
   "metadata": {},
   "outputs": [
    {
     "data": {
      "text/plain": [
       "array([[  4.74000000e+02,   0.00000000e+00,   1.10000000e-01, ...,\n",
       "          0.00000000e+00,   0.00000000e+00,   0.00000000e+00],\n",
       "       [  2.25000000e+03,   0.00000000e+00,   1.00000000e+00, ...,\n",
       "          0.00000000e+00,   0.00000000e+00,   0.00000000e+00],\n",
       "       [  2.45300000e+03,   0.00000000e+00,   1.20000000e-01, ...,\n",
       "          0.00000000e+00,   0.00000000e+00,   0.00000000e+00],\n",
       "       ..., \n",
       "       [  2.09340000e+04,   1.00000000e-02,   9.80000000e-01, ...,\n",
       "          0.00000000e+00,   0.00000000e+00,   0.00000000e+00],\n",
       "       [  3.41410000e+04,   0.00000000e+00,   0.00000000e+00, ...,\n",
       "          0.00000000e+00,   0.00000000e+00,   0.00000000e+00],\n",
       "       [  4.46740000e+04,   0.00000000e+00,   9.20000000e-01, ...,\n",
       "          0.00000000e+00,   0.00000000e+00,   0.00000000e+00]])"
      ]
     },
     "execution_count": 14,
     "metadata": {},
     "output_type": "execute_result"
    }
   ],
   "source": [
    "train_data"
   ]
  },
  {
   "cell_type": "code",
   "execution_count": 15,
   "metadata": {
    "collapsed": true
   },
   "outputs": [],
   "source": [
    "triplets = triplets.assign(val=val)\n",
    "tripl_data = triplets.values"
   ]
  },
  {
   "cell_type": "code",
   "execution_count": 22,
   "metadata": {},
   "outputs": [
    {
     "name": "stdout",
     "output_type": "stream",
     "text": [
      "CPU times: user 4.16 s, sys: 0 ns, total: 4.16 s\n",
      "Wall time: 4.17 s\n"
     ]
    }
   ],
   "source": [
    "%%time\n",
    "new_indexes = np.zeros(l)\n",
    "for i in range(l):\n",
    "    row = int(tripl_data[i][0])\n",
    "    new_indexes[i] = int(train_data[row][0])"
   ]
  },
  {
   "cell_type": "code",
   "execution_count": 24,
   "metadata": {
    "collapsed": true
   },
   "outputs": [],
   "source": [
    "#for row, idx_col in indx_df.groupby(0):\n",
    " #   print(row)\n",
    "  #  print(idx_col[1])\n",
    "   # break"
   ]
  },
  {
   "cell_type": "code",
   "execution_count": 25,
   "metadata": {
    "collapsed": true
   },
   "outputs": [],
   "source": [
    "triplets[col[0]] = new_indexes.astype(int)"
   ]
  },
  {
   "cell_type": "code",
   "execution_count": 26,
   "metadata": {
    "collapsed": true
   },
   "outputs": [],
   "source": [
    "triplets = triplets.rename(columns={col[0]: 'user_id'})"
   ]
  },
  {
   "cell_type": "code",
   "execution_count": 28,
   "metadata": {
    "collapsed": true
   },
   "outputs": [],
   "source": [
    "#big_pay = pd.concat([slice_pay_train, slice_pay_test])"
   ]
  },
  {
   "cell_type": "code",
   "execution_count": 58,
   "metadata": {
    "collapsed": true
   },
   "outputs": [],
   "source": [
    "def get_random_sample(triplets, N=84):\n",
    "    #indexes = np.random.randint(len(triplets), size=N)\n",
    "    indexes = random.sample(range(0, len(triplets)), N)\n",
    "    return triplets.iloc[indexes]\n",
    "\n",
    "def torch_mean_logloss(raw_margins, target_values, trunc_max=100.):\n",
    "    # -y * f(x), минус уже учтен при подсчете margins\n",
    "#     myfx = torch.mul(target_values.float(), raw_margins)\n",
    "    \n",
    "    myfx = -1. * torch.mul(target_values.float(), raw_margins)\n",
    "    elementwise_logloss = torch.log(1 + torch.exp(myfx))\n",
    "    mean_loss = torch.clamp(elementwise_logloss, max=trunc_max).mean()\n",
    "#     mean_loss = torch.min(elementwise_logloss.data, torch.zeros(elementwise_logloss.size()) + trunc_max).mean()\n",
    "    return mean_loss\n",
    "\n",
    "def torch_mean_l2(w):\n",
    "    elementwise_sq_norm = w.pow(2).sum(dim=1)\n",
    "    mean_l2 = elementwise_sq_norm.mean()\n",
    "    return mean_l2"
   ]
  },
  {
   "cell_type": "code",
   "execution_count": 59,
   "metadata": {
    "collapsed": true
   },
   "outputs": [],
   "source": [
    "class InterNet(nn.Module):\n",
    "    def __init__(self, N_EMBEDDINGS):\n",
    "        super(InterNet, self).__init__()\n",
    "        self.fc1 = nn.Linear(N_EMBEDDINGS * 2, 100)\n",
    "        self.fc2 = nn.Linear(100, 100)\n",
    "        self.fc3 = nn.Linear(100, 24)\n",
    "        self.fc4 = nn.Linear(24, 1)\n",
    "        \n",
    "        #self.model = torch.nn.Sequential(\n",
    "        #torch.nn.Linear(N_EMBEDDINGS * 2, 200),\n",
    "        #torch.nn.ReLU(),\n",
    "        #torch.nn.Linear(400, 200),\n",
    "        #torch.nn.ReLU(),\n",
    "        #torch.nn.Linear(200, 84),\n",
    "        #torch.nn.Tanh(),\n",
    "        #torch.nn.Linear(84, 1)\n",
    "        #)\n",
    "    \n",
    "    \n",
    "    def forward(self, x):                \n",
    "        x = F.relu(self.fc1(x))\n",
    "        x = F.relu(self.fc2(x))\n",
    "        x = F.relu(self.fc3(x))\n",
    "        x = F.sigmoid(self.fc4(x))\n",
    "        #x = self.model(x)|\n",
    "        return x\n",
    "\n",
    "class Net(nn.Module):\n",
    "    def __init__(self, n_user, n_items, n_embeddings=28, alpha=0.9, beta=0.4):\n",
    "        super(Net, self).__init__()\n",
    "        self.N_USERS = n_user\n",
    "        self.N_ITEMS = n_items\n",
    "        self.N_EMBEDDINGS = n_embeddings\n",
    "        self.alpha = alpha\n",
    "        self.beta = beta\n",
    "        self.alpha_reg = 0.001\n",
    "        self.alpha_diff = 0\n",
    "        \n",
    "        initrange = 1.0\n",
    "        self.user_latents = nn.Embedding(self.N_USERS,self.N_EMBEDDINGS)\n",
    "        self.item_latents = nn.Embedding(self.N_ITEMS,self.N_EMBEDDINGS)\n",
    "        self.user_latents.weight.data.uniform_(-initrange, initrange)\n",
    "        self.item_latents.weight.data.uniform_(-initrange, initrange)\n",
    "        \n",
    "        self.net_l = InterNet(self.N_EMBEDDINGS)\n",
    "        #self.net_r = InterNet(self.N_EMBEDDINGS)\n",
    "        \n",
    "    \n",
    "    def forward(self, xl, xr, p = False):       \n",
    "        #r = self.net_r.forward(xr)\n",
    "        r = self.net_l.forward(xr)\n",
    "        l = self.net_l.forward(xl) \n",
    "        if p :\n",
    "            print(l.data.numpy(),\"/////\",r.data.numpy())\n",
    "        y = l - r\n",
    "        return y"
   ]
  },
  {
   "cell_type": "code",
   "execution_count": 31,
   "metadata": {
    "collapsed": true
   },
   "outputs": [],
   "source": [
    "# Так как пользователей много следаем отображение из номеров в range (1, кол-во пользователей).\n",
    "users = raw_pay_train.user_id.unique()\n",
    "users_map = {}\n",
    "for index, user in enumerate(users):\n",
    "    users_map[user] = index\n",
    "    \n",
    "def get_users_map(lst):\n",
    "    res = []\n",
    "    for u in lst:\n",
    "        res.append(users_map[u])\n",
    "    return np.array(res)"
   ]
  },
  {
   "cell_type": "code",
   "execution_count": null,
   "metadata": {
    "collapsed": true
   },
   "outputs": [],
   "source": []
  },
  {
   "cell_type": "code",
   "execution_count": 69,
   "metadata": {},
   "outputs": [
    {
     "name": "stdout",
     "output_type": "stream",
     "text": [
      "Net (\n",
      "  (user_latents): Embedding(300000, 28)\n",
      "  (item_latents): Embedding(57, 28)\n",
      "  (net_l): InterNet (\n",
      "    (fc1): Linear (56 -> 100)\n",
      "    (fc2): Linear (100 -> 100)\n",
      "    (fc3): Linear (100 -> 24)\n",
      "    (fc4): Linear (24 -> 1)\n",
      "  )\n",
      ")\n"
     ]
    }
   ],
   "source": [
    "net = Net(raw_pay_train.user_id.unique().shape[0], 57)\n",
    "dots = []\n",
    "dots_2 = []\n",
    "optimizer=optim.Adam(net.parameters(), lr=0.0001)\n",
    "print(net)"
   ]
  },
  {
   "cell_type": "code",
   "execution_count": 71,
   "metadata": {
    "collapsed": true
   },
   "outputs": [],
   "source": [
    "def Train_net(batch_size=1024, triplets=triplets, n_epoch=5000,\n",
    "              optimizer=optimizer, net=net):\n",
    "    \n",
    "    net_running_loss = 0.0\n",
    "    running_loss = 0.0\n",
    "    ind = 0\n",
    "    \n",
    "    # loss = torch.nn.MSELoss()\n",
    "    # loss = torch.nn.HingeEmbeddingLoss()\n",
    "    # loss = torch.nn.BCELoss()# logloss\n",
    "\n",
    "    for epoch in range(n_epoch):\n",
    "        # get random batch \n",
    "        numpy_x_sample = get_random_sample(triplets, batch_size)\n",
    "\n",
    "        #numpy_x_sample = triplets.sample(n=512)    \n",
    "        #numpy_x_sample = triplets[triplets.user_id == 195] # try overfit\n",
    "        user_ids = Variable(torch.from_numpy(\n",
    "            get_users_map(numpy_x_sample.loc[:,\"user_id\"].values.astype(int))))\n",
    "        left_ids = Variable(torch.from_numpy(numpy_x_sample.loc[:,\"1_x\"].values.astype(int)))\n",
    "        right_ids = Variable(torch.from_numpy(numpy_x_sample.loc[:,\"1_y\"].values.astype(int)))\n",
    "        target_y = Variable(torch.from_numpy(numpy_x_sample.loc[:,\"val\"].values.astype(int)), requires_grad=False)\n",
    "    \n",
    "        # zero the parameter gradients\n",
    "        optimizer.zero_grad()\n",
    "    \n",
    "        # forward pass\n",
    "        embedding_user = net.user_latents(user_ids)\n",
    "        embedding_left = net.item_latents(left_ids)\n",
    "        embedding_right = net.item_latents(right_ids) \n",
    "    \n",
    "        left_emb = torch.sum(embedding_user * embedding_left, 1)\n",
    "        right_emb = torch.sum(embedding_user * embedding_right, 1)\n",
    "        # В статье здесь отнимают i* - i\n",
    "        embedding_margins = left_emb - right_emb\n",
    "        #embedding_margins = right_emb - left_emb\n",
    "        #print('emb_margins: ', embedding_margins, 'len:' , len(embedding_margins))\n",
    "        embedding_loss = torch_mean_logloss(embedding_margins, target_y)\n",
    "    \n",
    "        xr = torch.cat((embedding_user,embedding_right), dim=1)\n",
    "        xl = torch.cat((embedding_user,embedding_left), dim=1)\n",
    "    \n",
    "        net_margins = net.forward(xl,xr)\n",
    "        net_loss = torch_mean_logloss(net_margins, target_y)\n",
    "        net_running_loss += net_margins.data[0]\n",
    "    \n",
    "        regularization = torch_mean_l2(embedding_user) + torch_mean_l2(embedding_left) + \\\n",
    "        torch_mean_l2(embedding_right)\n",
    "        ranking_losses = net.alpha * embedding_loss + net.beta * net_loss\n",
    "        target = ranking_losses + net.alpha_reg * regularization\n",
    "    \n",
    "        #target = loss(net_margins, target_y.float())\n",
    "    \n",
    "        # backward pass\n",
    "        target.backward()\n",
    "        optimizer.step()\n",
    "    \n",
    "        # print statistics\n",
    "        running_loss += target.data[0]\n",
    "        dots.append(target.data[0])\n",
    "        dots_2.append(running_loss / (epoch + 1))\n",
    "        ind+=1\n",
    "        if ind % 1000 == 0:\n",
    "            print('[%d] loss: %.3f' %\n",
    "                  (epoch + 1, running_loss / (epoch + 1)))\n",
    "            my_NDCG(target_number=5)"
   ]
  },
  {
   "cell_type": "code",
   "execution_count": 72,
   "metadata": {},
   "outputs": [
    {
     "name": "stdout",
     "output_type": "stream",
     "text": [
      "[1000] loss: 1.363\n",
      "our:  deque([2, 3, 0, 1, 8]) \n",
      " good:  [0 6 4 1 3]\n",
      "our:  deque([0, 1, 2, 3, 5]) \n",
      " good:  [ 4  0 20  2  3]\n",
      "our:  deque([2, 0, 1, 3, 5]) \n",
      " good:  [12  2 18  4  7]\n",
      "our:  deque([2, 0, 1, 3, 5]) \n",
      " good:  [ 8  0 17 20  4]\n",
      "our:  deque([3, 2, 0, 1, 8]) \n",
      " good:  [ 1 13  3  0  5]\n",
      "our:  deque([2, 3, 0, 1, 5]) \n",
      " good:  [21  1  5  3 24]\n",
      "our:  deque([2, 3, 0, 1, 10]) \n",
      " good:  [ 5  1 34  0 13]\n",
      "our:  deque([2, 3, 0, 1, 8]) \n",
      " good:  [1 2 6 4 3]\n",
      "users:  875  mean NDCG:  0.46158433296\n",
      "[2000] loss: 1.316\n",
      "our:  deque([2, 3, 8, 0, 1]) \n",
      " good:  [0 6 4 1 3]\n",
      "our:  deque([0, 1, 3, 2, 8]) \n",
      " good:  [ 4  0 20  2  3]\n",
      "our:  deque([2, 0, 1, 3, 5]) \n",
      " good:  [12  2 18  4  7]\n",
      "our:  deque([2, 3, 0, 1, 5]) \n",
      " good:  [ 8  0 17 20  4]\n",
      "our:  deque([3, 2, 0, 1, 8]) \n",
      " good:  [ 1 13  3  0  5]\n",
      "our:  deque([2, 3, 8, 0, 1]) \n",
      " good:  [21  1  5  3 24]\n",
      "our:  deque([2, 3, 10, 0, 1]) \n",
      " good:  [ 5  1 34  0 13]\n",
      "our:  deque([2, 3, 0, 1, 8]) \n",
      " good:  [1 2 6 4 3]\n",
      "users:  875  mean NDCG:  0.427025749886\n",
      "[3000] loss: 1.274\n",
      "our:  deque([2, 8, 3, 0, 1]) \n",
      " good:  [0 6 4 1 3]\n",
      "our:  deque([3, 0, 1, 8, 5]) \n",
      " good:  [ 4  0 20  2  3]\n",
      "our:  deque([3, 0, 1, 2, 5]) \n",
      " good:  [12  2 18  4  7]\n",
      "our:  deque([3, 2, 0, 1, 8]) \n",
      " good:  [ 8  0 17 20  4]\n",
      "our:  deque([3, 8, 0, 1, 2]) \n",
      " good:  [ 1 13  3  0  5]\n",
      "our:  deque([3, 2, 8, 0, 1]) \n",
      " good:  [21  1  5  3 24]\n",
      "our:  deque([3, 2, 8, 0, 1]) \n",
      " good:  [ 5  1 34  0 13]\n",
      "our:  deque([3, 2, 0, 1, 8]) \n",
      " good:  [1 2 6 4 3]\n",
      "users:  875  mean NDCG:  0.401538068548\n",
      "[4000] loss: 1.236\n",
      "our:  deque([8, 3, 2, 0, 1]) \n",
      " good:  [0 6 4 1 3]\n",
      "our:  deque([3, 8, 0, 1, 5]) \n",
      " good:  [ 4  0 20  2  3]\n",
      "our:  deque([3, 0, 1, 2, 5]) \n",
      " good:  [12  2 18  4  7]\n",
      "our:  deque([3, 8, 2, 0, 1]) \n",
      " good:  [ 8  0 17 20  4]\n",
      "our:  deque([3, 8, 0, 1, 2]) \n",
      " good:  [ 1 13  3  0  5]\n",
      "our:  deque([3, 2, 8, 5, 10]) \n",
      " good:  [21  1  5  3 24]\n",
      "our:  deque([3, 2, 8, 0, 1]) \n",
      " good:  [ 5  1 34  0 13]\n",
      "our:  deque([3, 8, 2, 0, 1]) \n",
      " good:  [1 2 6 4 3]\n",
      "users:  875  mean NDCG:  0.370953612914\n",
      "[5000] loss: 1.203\n",
      "our:  deque([8, 3, 0, 1, 2]) \n",
      " good:  [0 6 4 1 3]\n",
      "our:  deque([3, 8, 0, 1, 5]) \n",
      " good:  [ 4  0 20  2  3]\n",
      "our:  deque([3, 0, 1, 5, 8]) \n",
      " good:  [12  2 18  4  7]\n",
      "our:  deque([3, 8, 0, 1, 5]) \n",
      " good:  [ 8  0 17 20  4]\n",
      "our:  deque([3, 8, 0, 1, 5]) \n",
      " good:  [ 1 13  3  0  5]\n",
      "our:  deque([3, 8, 0, 1, 5]) \n",
      " good:  [21  1  5  3 24]\n",
      "our:  deque([3, 8, 2, 0, 1]) \n",
      " good:  [ 5  1 34  0 13]\n",
      "our:  deque([3, 8, 0, 1, 2]) \n",
      " good:  [1 2 6 4 3]\n",
      "users:  875  mean NDCG:  0.36423282783\n",
      "CPU times: user 37min 48s, sys: 52min 34s, total: 1h 30min 23s\n",
      "Wall time: 27min 15s\n"
     ]
    }
   ],
   "source": [
    "%%time\n",
    "Train_net()"
   ]
  },
  {
   "cell_type": "code",
   "execution_count": 73,
   "metadata": {},
   "outputs": [
    {
     "data": {
      "text/plain": [
       "<matplotlib.collections.PathCollection at 0x7fcd69d23940>"
      ]
     },
     "execution_count": 73,
     "metadata": {},
     "output_type": "execute_result"
    },
    {
     "data": {
      "image/png": "[encoded data removed]",
      "text/plain": [
       "<matplotlib.figure.Figure at 0x7fcd69e28518>"
      ]
     },
     "metadata": {},
     "output_type": "display_data"
    }
   ],
   "source": [
    "x = range(len(dots))\n",
    "plt.scatter(x, dots)"
   ]
  },
  {
   "cell_type": "code",
   "execution_count": 74,
   "metadata": {},
   "outputs": [
    {
     "data": {
      "text/plain": [
       "[<matplotlib.lines.Line2D at 0x7fcd69c9b5f8>]"
      ]
     },
     "execution_count": 74,
     "metadata": {},
     "output_type": "execute_result"
    },
    {
     "data": {
      "image/png": "[encoded data removed]",
      "text/plain": [
       "<matplotlib.figure.Figure at 0x7fcd697d61d0>"
      ]
     },
     "metadata": {},
     "output_type": "display_data"
    }
   ],
   "source": [
    "plt.plot(x, dots_2)"
   ]
  },
  {
   "cell_type": "code",
   "execution_count": 64,
   "metadata": {
    "collapsed": true
   },
   "outputs": [],
   "source": [
    "#torch.save(net.state_dict(), 'save_model')"
   ]
  },
  {
   "cell_type": "code",
   "execution_count": 63,
   "metadata": {
    "collapsed": true
   },
   "outputs": [],
   "source": [
    "#load_net = Net(raw_pay_train.user_id.unique().shape[0], 57)\n",
    "#load_net.load_state_dict(torch.load('save_model')\n",
    "#get_range_user(474)\n",
    "#get_range_user(474, net=load_net)"
   ]
  },
  {
   "cell_type": "code",
   "execution_count": 60,
   "metadata": {
    "collapsed": true
   },
   "outputs": [],
   "source": [
    "def get_prediction(user_id, left, right, net=net):\n",
    "    if left == -1:\n",
    "        return Variable(torch.FloatTensor([-1]))\n",
    "    if right == -1:\n",
    "        return Variable(torch.FloatTensor([1]))\n",
    "    # get random batch \n",
    "    user_ids = Variable(torch.from_numpy(get_users_map(np.array([user_id]).astype(int))))\n",
    "    left_ids = Variable(torch.from_numpy(np.array([left]).astype(int)))\n",
    "    right_ids = Variable(torch.from_numpy(np.array([right]).astype(int)))\n",
    "    \n",
    "    embedding_user = net.user_latents(user_ids)\n",
    "    #print('embedded user ids: ',embedding_user)\n",
    "    embedding_left = net.item_latents(left_ids)\n",
    "    embedding_right = net.item_latents(right_ids) \n",
    "    #print(embedding_user, embedding_left, embedding_right)\n",
    "    \n",
    "    xr = torch.cat((embedding_user,embedding_right), dim=1)\n",
    "    xl = torch.cat((embedding_user,embedding_left), dim=1)\n",
    "    \n",
    "    # get predictions\n",
    "    # А здесь от i отнимаем i*\n",
    "    # Убрали \n",
    "    net_margins = net.forward(xl,xr)\n",
    "    #print('len: ', len(net_margins))\n",
    "    return net_margins"
   ]
  },
  {
   "cell_type": "code",
   "execution_count": 61,
   "metadata": {
    "collapsed": true
   },
   "outputs": [],
   "source": [
    "items_number = 56\n",
    "#items=list(range(items_number))\n",
    "items=list(range(15))\n",
    "from numba import int32\n",
    "from collections import deque\n",
    "\n",
    "def get_range_user(user_id=1, top=10, items=items, net=net):\n",
    "    res = deque([-1] * top)\n",
    "    i_s = 0\n",
    "    s = 2\n",
    "    if top > 1:\n",
    "        if get_prediction(user_id, items[0], items[1], net=net) > get_prediction(user_id, items[1], items[0], net=net):\n",
    "            res[0] = items[0]\n",
    "            res[1] = items[1]\n",
    "            i_s = items[0]\n",
    "        else:\n",
    "            res[0] = items[1]\n",
    "            res[1] = items[0]\n",
    "            i_s = items[1]\n",
    "    else:\n",
    "        s = 1\n",
    "        res[0] = items[0]\n",
    "    k = top - 1\n",
    "    for i in items[s:]:\n",
    "        i_s = res[0]\n",
    "        j = top - 1\n",
    "        while((j >= 0) and (get_prediction(user_id, i, res[j], net=net).data.numpy() >= 0.)):\n",
    "            j -= 1\n",
    "        if j < k:\n",
    "            #right(res, j)\n",
    "            res.insert(j+1, i)\n",
    "            res.pop()\n",
    "    return res"
   ]
  },
  {
   "cell_type": "code",
   "execution_count": 62,
   "metadata": {},
   "outputs": [
    {
     "data": {
      "text/plain": [
       "array([37,  4, 25,  0, 14])"
      ]
     },
     "execution_count": 62,
     "metadata": {},
     "output_type": "execute_result"
    }
   ],
   "source": [
    "raw_pay_train[raw_pay_train.user_id==184].values[0][1:].argsort()[-5:][::-1]"
   ]
  },
  {
   "cell_type": "code",
   "execution_count": 63,
   "metadata": {
    "collapsed": true
   },
   "outputs": [],
   "source": [
    "us1 = raw_pay_train.user_id.unique()\n",
    "us2 = raw_pay_test.user_id.unique()"
   ]
  },
  {
   "cell_type": "code",
   "execution_count": 64,
   "metadata": {},
   "outputs": [
    {
     "data": {
      "text/plain": [
       "(300000,)"
      ]
     },
     "execution_count": 64,
     "metadata": {},
     "output_type": "execute_result"
    }
   ],
   "source": [
    "raw_pay_test.user_id.unique().shape"
   ]
  },
  {
   "cell_type": "code",
   "execution_count": 84,
   "metadata": {
    "collapsed": true
   },
   "outputs": [],
   "source": [
    "from numba import int32\n",
    "from collections import deque\n",
    "\n",
    "def my_NDCG(target_number=10, users=raw_pay_test.user_id.unique()[:6000], net=net):\n",
    "    train_users = set(raw_pay_train.user_id.unique())\n",
    "    d_test = raw_pay_test\n",
    "    pre=0\n",
    "    n_users = 0\n",
    "    DCG_ = []\n",
    "    logs = [1./np.log2(ind + 2) for ind in range(target_number)]\n",
    "    norm = np.sum(logs)\n",
    "    for user in users:\n",
    "        # ????? \n",
    "        if (user in train_users and raw_pay_test[raw_pay_test.user_id==user].values[0][1:].nonzero()[0].shape[0] >= target_number):\n",
    "            n_users += 1 \n",
    "            #ur_prediction = get_range_user(user, target_number, net=net)\n",
    "            our_prediction = [1, 2, 0, 3, 5]\n",
    "            good_range = raw_pay_train[raw_pay_train.user_id==user].values[0][1:].argsort()[-target_number:][::-1]\n",
    "            if pre < 10000:\n",
    "                pre += 1\n",
    "                if pre %100 == 0:\n",
    "                    print(\"our: \", our_prediction, '\\n', \"good: \", good_range)\n",
    "            # Считаем что i только 1 или 0\n",
    "            DCG = 0\n",
    "            for ind, item in enumerate(our_prediction):\n",
    "                v = logs[ind]\n",
    "                if item in good_range:\n",
    "                    DCG += v\n",
    "            DCG_.append(DCG)\n",
    "        else:\n",
    "            continue\n",
    "    mean = np.mean(DCG_) / norm\n",
    "    print(\"users: \", n_users, \" mean NDCG: \", mean)\n",
    "    return mean"
   ]
  },
  {
   "cell_type": "code",
   "execution_count": 85,
   "metadata": {
    "scrolled": true
   },
   "outputs": [
    {
     "name": "stdout",
     "output_type": "stream",
     "text": [
      "our:  [1, 2, 0, 3, 5] \n",
      " good:  [21  6  0 15 24]\n",
      "our:  [1, 2, 0, 3, 5] \n",
      " good:  [ 2  5  0  4 15]\n",
      "our:  [1, 2, 0, 3, 5] \n",
      " good:  [ 3  1 26  8  0]\n",
      "our:  [1, 2, 0, 3, 5] \n",
      " good:  [ 2  9  0 15 14]\n",
      "our:  [1, 2, 0, 3, 5] \n",
      " good:  [41  1  8 24 43]\n",
      "our:  [1, 2, 0, 3, 5] \n",
      " good:  [ 5  3 56 14 25]\n",
      "our:  [1, 2, 0, 3, 5] \n",
      " good:  [ 1  9  0 15 14]\n",
      "our:  [1, 2, 0, 3, 5] \n",
      " good:  [13  3  0  2 15]\n",
      "our:  [1, 2, 0, 3, 5] \n",
      " good:  [ 1 13 14 25 24]\n",
      "users:  957  mean NDCG:  0.456710776002\n",
      "CPU times: user 6.12 s, sys: 16 ms, total: 6.13 s\n",
      "Wall time: 6.14 s\n"
     ]
    }
   ],
   "source": [
    "%%time\n",
    "ndcg = my_NDCG(target_number=5)"
   ]
  },
  {
   "cell_type": "code",
   "execution_count": 70,
   "metadata": {
    "collapsed": true
   },
   "outputs": [],
   "source": [
    "from numba import int32\n",
    "from collections import deque\n",
    "\n",
    "def my_NDCG(target_number=10, users=raw_pay_test.user_id.unique()[:6000], net=net):\n",
    "    train_users = set(raw_pay_train.user_id.unique())\n",
    "    d_test = raw_pay_test\n",
    "    pre=0\n",
    "    n_users = 0\n",
    "    DCG_ = []\n",
    "    logs = [1./np.log2(ind + 2) for ind in range(target_number)]\n",
    "    norm = np.sum(logs)\n",
    "    for user in users:\n",
    "        # ????? \n",
    "        if (raw_pay_train[raw_pay_train.user_id==user].values[0][1:].nonzero()[0].shape[0] >= target_number):\n",
    "            n_users += 1 \n",
    "            our_prediction = get_range_user(user, target_number, net=net)\n",
    "            \n",
    "            good_range = raw_pay_train[raw_pay_train.user_id==user].values[0][1:].argsort()[-target_number:][::-1]\n",
    "            if pre < 10000:\n",
    "                pre += 1\n",
    "                if pre %100 == 0:\n",
    "                    print(\"our: \", our_prediction, '\\n', \"good: \", good_range)\n",
    "            # Считаем что i только 1 или 0\n",
    "            DCG = 0\n",
    "            for ind, item in enumerate(our_prediction):\n",
    "                v = logs[ind]\n",
    "                if item in good_range:\n",
    "                    DCG += v\n",
    "            DCG_.append(DCG)\n",
    "        else:\n",
    "            continue\n",
    "    mean = np.mean(DCG_) / norm\n",
    "    print(\"users: \", n_users, \" mean NDCG: \", mean)\n",
    "    return mean"
   ]
  },
  {
   "cell_type": "code",
   "execution_count": null,
   "metadata": {
    "collapsed": true
   },
   "outputs": [],
   "source": []
  },
  {
   "cell_type": "code",
   "execution_count": null,
   "metadata": {
    "collapsed": true
   },
   "outputs": [],
   "source": []
  },
  {
   "cell_type": "code",
   "execution_count": 71,
   "metadata": {
    "collapsed": true
   },
   "outputs": [],
   "source": [
    "train_users = set(raw_pay_train.user_id.unique())"
   ]
  },
  {
   "cell_type": "code",
   "execution_count": 72,
   "metadata": {},
   "outputs": [
    {
     "data": {
      "text/plain": [
       "True"
      ]
     },
     "execution_count": 72,
     "metadata": {},
     "output_type": "execute_result"
    }
   ],
   "source": [
    "3854 in train_users"
   ]
  },
  {
   "cell_type": "code",
   "execution_count": 73,
   "metadata": {},
   "outputs": [
    {
     "ename": "KeyError",
     "evalue": "3854",
     "output_type": "error",
     "traceback": [
      "\u001b[0;31m---------------------------------------------------------------------------\u001b[0m",
      "\u001b[0;31mKeyError\u001b[0m                                  Traceback (most recent call last)",
      "\u001b[0;32m<ipython-input-73-7d17f1eb157d>\u001b[0m in \u001b[0;36m<module>\u001b[0;34m()\u001b[0m\n\u001b[0;32m----> 1\u001b[0;31m \u001b[0musers_map\u001b[0m\u001b[0;34m[\u001b[0m\u001b[0;36m3854\u001b[0m\u001b[0;34m]\u001b[0m\u001b[0;34m\u001b[0m\u001b[0m\n\u001b[0m",
      "\u001b[0;31mKeyError\u001b[0m: 3854"
     ]
    }
   ],
   "source": [
    "users_map[3854]"
   ]
  },
  {
   "cell_type": "code",
   "execution_count": 96,
   "metadata": {
    "collapsed": true
   },
   "outputs": [],
   "source": [
    "def Next_transaction_test(target_number=1, users=d_test.user_id.unique(), net=net):\n",
    "    us_number = 0\n",
    "    concurrences = 0\n",
    "    for user in users:\n",
    "        our_prediction = get_range_user(user, target_number, net=net)\n",
    "        if d_test[d_test.user_id == user].shape[0] == 0:\n",
    "            continue\n",
    "        next_transaction = d_test[d_test.user_id == user]['KPI_CAT_l'].values[0]\n",
    "        us_number += 1\n",
    "        if next_transaction in our_prediction:\n",
    "            concurrences += 1\n",
    "    accuracy = concurrences / us_number\n",
    "    print(\"number quessed: \", concurrences, \"percent: \", accuracy)\n",
    "    return accuracy"
   ]
  },
  {
   "cell_type": "code",
   "execution_count": 99,
   "metadata": {
    "scrolled": false
   },
   "outputs": [
    {
     "name": "stdout",
     "output_type": "stream",
     "text": [
      "number quessed:  4120 percent:  0.6198284940574695\n",
      "CPU times: user 57.1 s, sys: 8 ms, total: 57.1 s\n",
      "Wall time: 57.1 s\n"
     ]
    },
    {
     "data": {
      "text/plain": [
       "0.6198284940574695"
      ]
     },
     "execution_count": 99,
     "metadata": {},
     "output_type": "execute_result"
    }
   ],
   "source": [
    "%%time\n",
    "Next_transaction_test(target_number=3)"
   ]
  },
  {
   "cell_type": "code",
   "execution_count": null,
   "metadata": {
    "collapsed": true
   },
   "outputs": [],
   "source": []
  },
  {
   "cell_type": "code",
   "execution_count": null,
   "metadata": {
    "collapsed": true
   },
   "outputs": [],
   "source": []
  },
  {
   "cell_type": "code",
   "execution_count": null,
   "metadata": {
    "collapsed": true
   },
   "outputs": [],
   "source": []
  },
  {
   "cell_type": "code",
   "execution_count": 27,
   "metadata": {
    "collapsed": true
   },
   "outputs": [],
   "source": [
    "category_mapping = {'IP-телефония': 20.0,\n",
    " 'MLM': 39.0,\n",
    " 'Sim-карты для туристов': 40.0,\n",
    " 'empty_kpi_cat': 17.0,\n",
    " 'p2p': 41.0,\n",
    " 'Абонентское обслуживание': 24.0,\n",
    " 'Авиабилеты': 27.0,\n",
    " 'Билеты в кино': 30.0,\n",
    " 'Билеты на зрелища': 19.0,\n",
    " 'Благотворительность': 28.0,\n",
    " 'Бронирование гостиниц': 35.0,\n",
    " 'Букмекеры': 1.0,\n",
    " 'Госуслуги': 16.0,\n",
    " 'Грузоперевозки и доставка': 11.0,\n",
    " 'Переводы': 48.0,\n",
    " 'Ж/Д билеты': 26.0,\n",
    " 'ЖКУ': 42.0,\n",
    " 'Игры со ставками': 4.0,\n",
    " 'Интернет': 15.0,\n",
    " 'Интернет магазины': 2.0,\n",
    " 'Информационные услуги': 6.0,\n",
    " 'Контент': 7.0,\n",
    " 'Купоны': 23.0,\n",
    " 'Лотереи': 5.0,\n",
    " 'Международная/междугородняя связь': 36.0,\n",
    " 'Местная связь': 43.0,\n",
    " 'Образовательные услуги': 25.0,\n",
    " 'Онлайн игры': 0.0,\n",
    " 'Онлайн общение': 8.0,\n",
    " 'Оплата подписки': 31.0,\n",
    " 'Охранные системы': 45.0,\n",
    " 'Переводы без открытия счета по свободным реквизитам': 44.0,\n",
    " 'Погашение займов': 12.0,\n",
    " 'Кредиты': 49.0,\n",
    " 'Радио': 38.0,\n",
    " 'Регистрация доменов': 22.0,\n",
    " 'Ритуальные услуги': 46.0,\n",
    " 'Служебная': 32.0,\n",
    " 'Создание и дизайн сайтов, трафик': 18.0,\n",
    " 'Сотовая связь': 13.0,\n",
    " 'Страхование': 34.0,\n",
    " 'Такси': 10.0,\n",
    " 'Телевидение': 21.0,\n",
    " 'Технический осмотр': 47.0,\n",
    " 'Транспортные карты': 29.0,\n",
    " 'Туристический продукт': 33.0,\n",
    " 'Файлообмен': 37.0,\n",
    " 'Форекс': 9.0,\n",
    " 'Хостинг': 14.0,\n",
    " 'Электронные деньги': 3.0}"
   ]
  },
  {
   "cell_type": "code",
   "execution_count": null,
   "metadata": {
    "collapsed": true
   },
   "outputs": [],
   "source": []
  },
  {
   "cell_type": "code",
   "execution_count": 225,
   "metadata": {},
   "outputs": [
    {
     "data": {
      "text/plain": [
       "array(['Переводы', 'ЖКУ', 'Кредиты', 'Интернет'], dtype=object)"
      ]
     },
     "execution_count": 225,
     "metadata": {},
     "output_type": "execute_result"
    }
   ],
   "source": [
    "raw_pay_test.category.unique()"
   ]
  },
  {
   "cell_type": "code",
   "execution_count": null,
   "metadata": {
    "collapsed": true
   },
   "outputs": [],
   "source": [
    "category_numbers = [48.0, ]"
   ]
  },
  {
   "cell_type": "code",
   "execution_count": 250,
   "metadata": {
    "collapsed": true
   },
   "outputs": [],
   "source": [
    "# нужном менять параметры сети и подавать туда все что есть.\n",
    "def Communication_test(target_number=5, net=net): \n",
    "    load_users = load_data.user_id.unique()\n",
    "    for category in raw_pay_test.category.unique():\n",
    "        same_c = 0\n",
    "        find_c = 0\n",
    "        print(\"Категория: \", category)\n",
    "        current_users = raw_pay_test[raw_pay_test.category == category].user_id.unique()\n",
    "        print(\"Пользователей: \", len(current_users))\n",
    "        for user in current_users:\n",
    "            if user not in load_users:\n",
    "                continue\n",
    "            our_prediction = get_range_user(user, target_number, net=net)\n",
    "            cat_index = category_mapping[category]\n",
    "            for item in our_prediction:\n",
    "                if item == cat_index:\n",
    "                    same_c += 1\n",
    "                    if category == 'Переводы':\n",
    "                        if (raw_pay_test[raw_pay_test.category == category & raw_pay_test.user_id==user, \n",
    "                                     transfer_pay_30].values[0] == 1):\n",
    "                            find_c += 1\n",
    "                    elif category == 'ЖКУ': \n",
    "                        if (raw_pay_test[raw_pay_test.category == category & raw_pay_test.user_id==user, util_30].values[0] == 1):\n",
    "                            find_c += 1\n",
    "                    elif category == 'Кредиты': \n",
    "                        # тут нужно добавить еще одну строку со второй колонкой\n",
    "                        if (raw_pay_test[raw_pay_test.category == category & raw_pay_test.user_id==user, \n",
    "                                         loan_pay_30].values[0] == 1):\n",
    "                            find_c += 1\n",
    "                    # Интернет\n",
    "                    else: \n",
    "                        if (raw_pay_test[raw_pay_test.category == category & raw_pay_test.user_id==user, \n",
    "                                         internet_pay_30].values[0] == 1):\n",
    "                            find_c += 1\n",
    "                    break\n",
    "        print(\"Совпадает: \", same_c, \"Из них ответили на: \", find_c)"
   ]
  }
 ],
 "metadata": {
  "kernelspec": {
   "display_name": "Python 3",
   "language": "python",
   "name": "python3"
  },
  "language_info": {
   "codemirror_mode": {
    "name": "ipython",
    "version": 3
   },
   "file_extension": ".py",
   "mimetype": "text/x-python",
   "name": "python",
   "nbconvert_exporter": "python",
   "pygments_lexer": "ipython3",
   "version": "3.6.2"
  }
 },
 "nbformat": 4,
 "nbformat_minor": 2
}
