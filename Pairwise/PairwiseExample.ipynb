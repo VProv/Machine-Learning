{
 "cells": [
  {
   "cell_type": "code",
   "execution_count": null,
   "metadata": {
    "collapsed": true
   },
   "outputs": [],
   "source": [
    "# According to this article https://arxiv.org/abs/1705.00105"
   ]
  },
  {
   "cell_type": "code",
   "execution_count": 3,
   "metadata": {
    "collapsed": true
   },
   "outputs": [],
   "source": [
    "import fastparquet\n",
    "import time\n",
    "import matplotlib.pyplot as plt\n",
    "import os\n",
    "import torch\n",
    "import torch.autograd as autograd\n",
    "from torch.autograd import Variable\n",
    "import torch.optim as optim\n",
    "import torch.nn as nn\n",
    "import torch.nn.functional as F\n",
    "import pandas as pd\n",
    "import numpy as np\n",
    "from sklearn.model_selection import train_test_split\n",
    "import random\n",
    "from collections import deque\n",
    "from sklearn.model_selection import GridSearchCV\n",
    "from sklearn.base import BaseEstimator\n",
    "from tqdm import tqdm\n",
    "pd.options.display.max_columns = 100\n",
    "%matplotlib inline"
   ]
  },
  {
   "cell_type": "markdown",
   "metadata": {},
   "source": [
    "### Выгружаем данные. Функция поочередной выгрузки данных и подготовки триплетов."
   ]
  },
  {
   "cell_type": "code",
   "execution_count": 4,
   "metadata": {
    "collapsed": true
   },
   "outputs": [],
   "source": [
    "file_names = os.listdir(\"/data/vanya_dataset/train_val\")\n",
    "file_counter = 1"
   ]
  },
  {
   "cell_type": "code",
   "execution_count": 5,
   "metadata": {
    "collapsed": true
   },
   "outputs": [],
   "source": [
    "def get_next_triplets(train_batches_number=3, path=\"/data/vanya_dataset/train_val/\", file_names=file_names):\n",
    "    \"\"\"\n",
    "    Принимает количество батчей, которые нужно считать, путь к папке из которой читать и имена файлов для считывания.\n",
    "    \n",
    "    Возвращает 3 значения.\n",
    "    1) triplets: (user_id, item_1, item_2, val(1, если item_1 лучше item_2, -1 иначе))\n",
    "    2) raw_data -- сухие данные смерженных батчей.\n",
    "    3) raw_pay_train -- сухие данные колонок ['event_id'] + колонки соответствующие категориям. \n",
    "    \"\"\"\n",
    "\n",
    "    raw_data = pd.DataFrame()\n",
    "    for ind, name in enumerate(file_names[file_counter:]):\n",
    "        if ind == train_batches_number:\n",
    "            break\n",
    "        pfile = fastparquet.ParquetFile(path + name)\n",
    "        batch = pfile.to_pandas()\n",
    "        print(\"+\")\n",
    "        if ind == 0:\n",
    "            raw_data = batch\n",
    "            continue\n",
    "        else:\n",
    "            raw_data = pd.concat([raw_data, batch])\n",
    "    global file_counter\n",
    "    file_counter += train_batches_number\n",
    "    print(\"Всего примеров: \", raw_data.shape[0])\n",
    "    print(\"Всего уникальных юзеров: \", raw_data.user_id.unique().shape[0])\n",
    "    # Распределение данных по классам.\n",
    "    plt.scatter(range(58), raw_data[raw_data.columns[-58:]].mean().values)\n",
    "    \n",
    "    raw_pay_train = raw_data[['event_id'] + raw_data.columns[-58:].tolist()]\n",
    "    # Выбираем ненулевые индексы в категориях(по ним платили), для того чтобы потом построить по ним триплеты.\n",
    "    non_zero_indexes = np.argwhere((raw_pay_train.iloc[:, :].loc[:, [str(float(i)) \n",
    "                                                                     for i in list(range(0,57))] ] > 0).values)\n",
    "    indx_df = pd.DataFrame(non_zero_indexes)\n",
    "    # Мержим все категории друг к другу для каждого юзера.\n",
    "    triplets = pd.merge(indx_df, indx_df, on=indx_df.columns[0])\n",
    "    triplets = triplets[triplets['1_x'] != triplets['1_y']]\n",
    "    train_data = raw_pay_train.values    \n",
    "    trip_data = triplets.values\n",
    "    l = triplets.shape[0]\n",
    "    # Хотим 1, если item_1 лучше item_2, -1 иначе.\n",
    "    val = np.zeros(l)\n",
    "    for i in range(l):\n",
    "        # Получаем номер юзера.\n",
    "        row = trip_data[i][0]\n",
    "        # Сдвигаемся на 1 вперед, так как первая колонка это номер юзера, а мы хотим номер категории.\n",
    "        x = trip_data[i][1] + 1\n",
    "        y = trip_data[i][2] + 1\n",
    "        if train_data[row][x] >= train_data[row][y]:\n",
    "            val[i] = 1.\n",
    "        else:\n",
    "            val[i] = -1.\n",
    "    # Добавляем.\n",
    "    triplets = triplets.assign(val=val)\n",
    "    tripl_data = triplets.values\n",
    "    indexes = np.zeros(l)\n",
    "    for i in range(l):\n",
    "        # Старый id ивента/юзера в триплете.\n",
    "        row = int(tripl_data[i][0])\n",
    "        # На i-й позиции стоит старый индекс i-й строки.\n",
    "        indexes[i] = int(train_data[row][0])\n",
    "    triplets[triplets.columns[0]] = indexes.astype(int)\n",
    "    triplets = triplets.rename(columns={triplets.columns[0]: 'user_id'})\n",
    "    \n",
    "    return triplets, raw_data, raw_pay_train"
   ]
  },
  {
   "cell_type": "code",
   "execution_count": 7,
   "metadata": {
    "scrolled": false
   },
   "outputs": [
    {
     "name": "stdout",
     "output_type": "stream",
     "text": [
      "+\n",
      "+\n",
      "+\n",
      "+\n",
      "+\n",
      "Всего примеров:  1070279\n",
      "Всего уникальных юзеров:  847958\n",
      "CPU times: user 1min 22s, sys: 3.43 s, total: 1min 25s\n",
      "Wall time: 1min 25s\n"
     ]
    },
    {
     "data": {
      "image/png": "[encoded data removed]",
      "text/plain": [
       "<matplotlib.figure.Figure at 0x7f682d577cc0>"
      ]
     },
     "metadata": {},
     "output_type": "display_data"
    }
   ],
   "source": [
    "%%time\n",
    "triplets, raw_data, raw_pay_train = get_next_triplets(train_batches_number=5)"
   ]
  },
  {
   "cell_type": "code",
   "execution_count": 8,
   "metadata": {
    "collapsed": true
   },
   "outputs": [],
   "source": [
    "# Так как пользователей много сделаем отображение из номеров в range (1, кол-во пользователей).\n",
    "users = raw_pay_train.event_id.unique()\n",
    "users_map = {}\n",
    "for index, user in enumerate(users):\n",
    "    users_map[user] = index\n",
    "    \n",
    "def get_users_map(lst):\n",
    "    res = []\n",
    "    for u in lst:\n",
    "        res.append(users_map[u])\n",
    "    return np.array(res)"
   ]
  },
  {
   "cell_type": "code",
   "execution_count": 9,
   "metadata": {},
   "outputs": [
    {
     "data": {
      "text/plain": [
       "(22397896, 4)"
      ]
     },
     "execution_count": 9,
     "metadata": {},
     "output_type": "execute_result"
    }
   ],
   "source": [
    "triplets.shape"
   ]
  },
  {
   "cell_type": "markdown",
   "metadata": {},
   "source": [
    "### Описание структура нейронной сети и функций потерь. Сам подсчет ошибки идет в функции Train_net"
   ]
  },
  {
   "cell_type": "code",
   "execution_count": 10,
   "metadata": {},
   "outputs": [
    {
     "name": "stdout",
     "output_type": "stream",
     "text": [
      "Cuda:  True\n"
     ]
    }
   ],
   "source": [
    "# Необходимо для проведения вычислений на видеокарте, если она имеется.\n",
    "use_cuda = torch.cuda.is_available()\n",
    "FloatTensor = torch.cuda.FloatTensor if use_cuda else torch.FloatTensor\n",
    "LongTensor = torch.cuda.LongTensor if use_cuda else torch.LongTensor\n",
    "print(\"Cuda: \", use_cuda)"
   ]
  },
  {
   "cell_type": "code",
   "execution_count": 11,
   "metadata": {
    "collapsed": true
   },
   "outputs": [],
   "source": [
    "def get_random_sample(triplets, N=84):\n",
    "    \"\"\"\n",
    "    Получаем случайное подмножество из triplets размера N.\n",
    "    \"\"\"\n",
    "    #indexes = np.random.randint(len(triplets), size=N)\n",
    "    indexes = random.sample(range(0, len(triplets)), N)\n",
    "    return triplets.iloc[indexes]\n",
    "\n",
    "def torch_mean_logloss(raw_margins, target_values, trunc_max=100.):\n",
    "    \"\"\"\n",
    "    Считаем logloss. raw_margins и target_values вектора.\n",
    "    \"\"\"\n",
    "    # -y * f(x), минус уже учтен при подсчете margins\n",
    "    \n",
    "    myfx = -1. * torch.mul(target_values.float(), raw_margins)\n",
    "    elementwise_logloss = torch.log(1 + torch.exp(myfx))\n",
    "    mean_loss = torch.clamp(elementwise_logloss, max=trunc_max).mean()\n",
    "    return mean_loss\n",
    "\n",
    "def torch_mean_l2(w):\n",
    "    \"\"\"\n",
    "    L2 регуляризация для вектора w.\n",
    "    \"\"\"\n",
    "    elementwise_sq_norm = w.pow(2).sum(dim=1)\n",
    "    mean_l2 = elementwise_sq_norm.mean()\n",
    "    return mean_l2"
   ]
  },
  {
   "cell_type": "code",
   "execution_count": 12,
   "metadata": {
    "collapsed": true
   },
   "outputs": [],
   "source": [
    "class InterNet(nn.Module):\n",
    "    \"\"\"\n",
    "    Класс нейронной сети.\n",
    "    Мы используем эту сеть, как структурную единицу сети, которую используем непосредственно.\n",
    "    На вход подается два среза итемов для какого-то юзера. \n",
    "    На выходе число, если > 0 то сеть считает левый итем лучше правого, < 0 иначе.\n",
    "    \"\"\"\n",
    "    \n",
    "    def __init__(self, N_EMBEDDINGS):\n",
    "        super(InterNet, self).__init__()\n",
    "        # Задаем слои\n",
    "        self.fc1 = nn.Linear(N_EMBEDDINGS * 2, 100)\n",
    "        self.fc2 = nn.Linear(100, 100)\n",
    "        #self.fc3 = nn.Linear(100, 100)\n",
    "        self.fc4 = nn.Linear(100, 1)\n",
    "        \n",
    "        #self.model = torch.nn.Sequential(\n",
    "        #torch.nn.Linear(N_EMBEDDINGS * 2, 200),\n",
    "        #torch.nn.ReLU(),\n",
    "        #torch.nn.Linear(400, 200),\n",
    "        #torch.nn.ReLU(),\n",
    "        #torch.nn.Linear(200, 84),\n",
    "        #torch.nn.Tanh(),\n",
    "        #torch.nn.Linear(84, 1)\n",
    "        #)\n",
    "    \n",
    "    \n",
    "    def forward(self, x):\n",
    "        # Set activation function.\n",
    "        x = F.relu(self.fc1(x))\n",
    "        x = F.relu(self.fc2(x))\n",
    "        #x = F.relu(self.fc3(x))\n",
    "        x = F.sigmoid(self.fc4(x))\n",
    "        #x = self.model(x)|\n",
    "        return x\n",
    "\n",
    "class Net(nn.Module):\n",
    "    \"\"\"\n",
    "    Класс нейронной сети.\n",
    "    Contains InterNet class, and embeddings for it.\n",
    "    \"\"\"\n",
    "    def __init__(self, n_user, n_items, n_embeddings=40, alpha=0.9, beta=0.4, alpha_reg=0.0001):\n",
    "        \"\"\"\n",
    "        n_user, n_items,\n",
    "        n_embeddings = размер вложенного слоя(длина представления каждого юзера или итема\n",
    "        как вектора).\n",
    "        alpha = коэффициент учета embedding ошибки, то есть ошибки вычисляемой по векторам срезам.\n",
    "        beta = коэффициент учета net ошибки, то етсь ошибки вычисляемой по выходу нейронной сети.\n",
    "        alpha_reg = коэффициент регуляризации.\n",
    "        \"\"\"\n",
    "        super(Net, self).__init__()\n",
    "        self.N_USERS = n_user\n",
    "        self.N_ITEMS = n_items\n",
    "        self.N_EMBEDDINGS = n_embeddings\n",
    "        self.alpha = alpha\n",
    "        self.beta = beta\n",
    "        self.alpha_reg = alpha_reg\n",
    "        self.alpha_diff = 0\n",
    "        \n",
    "        # Initialize embeddings randomly.\n",
    "        initrange = 1.0\n",
    "        self.user_latents = nn.Embedding(self.N_USERS,self.N_EMBEDDINGS)\n",
    "        self.item_latents = nn.Embedding(self.N_ITEMS,self.N_EMBEDDINGS)\n",
    "        self.user_latents.weight.data.uniform_(0, initrange)\n",
    "        self.item_latents.weight.data.uniform_(0, initrange)\n",
    "        \n",
    "        self.user_latents = self.user_latents.cuda()\n",
    "        self.item_latents = self.item_latents.cuda()\n",
    "        \n",
    "        self.net_l = InterNet(self.N_EMBEDDINGS)\n",
    "        #self.net_r = InterNet(self.N_EMBEDDINGS)\n",
    "        \n",
    "    \n",
    "    def forward(self, xl, xr, p = False):       \n",
    "        #r = self.net_r.forward(xr)\n",
    "        r = self.net_l.forward(xr)\n",
    "        l = self.net_l.forward(xl) \n",
    "        if p :\n",
    "            print(l.data.numpy(),\"/////\",r.data.numpy())\n",
    "        y = l - r\n",
    "        return y"
   ]
  },
  {
   "cell_type": "code",
   "execution_count": 13,
   "metadata": {
    "scrolled": false
   },
   "outputs": [
    {
     "name": "stdout",
     "output_type": "stream",
     "text": [
      "Net (\n",
      "  (user_latents): Embedding(1070279, 40)\n",
      "  (item_latents): Embedding(57, 40)\n",
      "  (net_l): InterNet (\n",
      "    (fc1): Linear (80 -> 100)\n",
      "    (fc2): Linear (100 -> 100)\n",
      "    (fc4): Linear (100 -> 1)\n",
      "  )\n",
      ")\n"
     ]
    }
   ],
   "source": [
    "net = Net(raw_pay_train.event_id.unique().shape[0], 57, n_embeddings=40, alpha=0.9, beta=0.4, alpha_reg=0.0001)\n",
    "\n",
    "# необходимое действие для работы с GPU.\n",
    "if use_cuda:\n",
    "    net.cuda()\n",
    "# массивы для вычисления ошибок на каждом шаге.\n",
    "dots = []\n",
    "dots_2 = []\n",
    "optimizer=optim.Adam(net.parameters(), lr=0.0001)\n",
    "print(net)"
   ]
  },
  {
   "cell_type": "code",
   "execution_count": 14,
   "metadata": {
    "collapsed": true
   },
   "outputs": [],
   "source": [
    "def get_prediction(user_id, left, right, net=net):\n",
    "    \"\"\"\n",
    "    Предсказание нейронной сети net для юзера с user_id, и двух предметов left и right.\n",
    "    Если результат >= 0, то left >=right, left < right иначе.\n",
    "    \"\"\"\n",
    "    # Необходимо для правильной работы метода get_range_user.\n",
    "    if left == -1:\n",
    "        return Variable(FloatTensor([-1]))\n",
    "    if right == -1:\n",
    "        return Variable(FloatTensor([1]))\n",
    "     \n",
    "    user_ids = Variable(torch.from_numpy(get_users_map(np.array([user_id]).astype(int))).cuda())\n",
    "    left_ids = Variable(torch.from_numpy(np.array([left]).astype(int)).cuda())\n",
    "    right_ids = Variable(torch.from_numpy(np.array([right]).astype(int)).cuda())\n",
    "    \n",
    "    embedding_user = net.user_latents(user_ids)\n",
    "    embedding_left = net.item_latents(left_ids)\n",
    "    embedding_right = net.item_latents(right_ids) \n",
    "    \n",
    "    xr = torch.cat((embedding_user,embedding_right), 1)\n",
    "    xl = torch.cat((embedding_user,embedding_left), 1)\n",
    "    \n",
    "    # get predictions\n",
    "    net_margins = net.forward(xl,xr)\n",
    "    return net_margins"
   ]
  },
  {
   "cell_type": "code",
   "execution_count": 15,
   "metadata": {
    "collapsed": true
   },
   "outputs": [],
   "source": [
    "items=list(range(49))\n",
    "\n",
    "def get_range_user(user_id=1, top=10, items=items, net=net):\n",
    "    \"\"\"\n",
    "    Для юзера с user_id получаем лучшие top категорий из items.\n",
    "    \n",
    "    Мы предполагаем, что существует линейный порядок среди items, на самом же деле это нигде не гарантируется,\n",
    "    поэтому возможны циклы, но мы не берем это во внимание.\n",
    "    \"\"\"\n",
    "    res = deque([-1] * top)\n",
    "    i_s = 0\n",
    "    s = 2\n",
    "    if top > 1:\n",
    "        if get_prediction(user_id, items[0], items[1], net=net) > get_prediction(user_id, items[1], items[0], net=net):\n",
    "            res[0] = items[0]\n",
    "            res[1] = items[1]\n",
    "            i_s = items[0]\n",
    "        else:\n",
    "            res[0] = items[1]\n",
    "            res[1] = items[0]\n",
    "            i_s = items[1]\n",
    "    else:\n",
    "        s = 1\n",
    "        res[0] = items[0]\n",
    "    k = top - 1\n",
    "    for i in items[s:]:\n",
    "        i_s = res[0]\n",
    "        j = top - 1\n",
    "        while((j >= 0) and (get_prediction(user_id, i, res[j], net=net).cpu().data.numpy() >= 0.)):\n",
    "            j -= 1\n",
    "        if j < k:\n",
    "            #right(res, j)\n",
    "            res.insert(j+1, i)\n",
    "            res.pop()\n",
    "    return res"
   ]
  },
  {
   "cell_type": "code",
   "execution_count": 16,
   "metadata": {},
   "outputs": [
    {
     "name": "stdout",
     "output_type": "stream",
     "text": [
      "users in test:  (996, 6)\n"
     ]
    }
   ],
   "source": [
    "# Prepare data for pr_connection_test.\n",
    "needed_categories = ['util_30', 'internet_pay_30', 'transfer_pay_30', 'loan_pay_30', 'loan_w_Card_pay_30', 'event_id']\n",
    "\n",
    "conn_test = raw_data[needed_categories]\n",
    "\n",
    "clean_test = conn_test.drop(conn_test[(conn_test.util_30==0) & (conn_test.internet_pay_30==0) & (conn_test.transfer_pay_30==0)\\\n",
    "          & (conn_test.loan_pay_30==0) & (conn_test.loan_w_Card_pay_30==0)].index)\n",
    "\n",
    "clean_values = clean_test.values\n",
    "print(\"users in test: \", clean_values.shape)"
   ]
  },
  {
   "cell_type": "code",
   "execution_count": 17,
   "metadata": {
    "collapsed": true
   },
   "outputs": [],
   "source": [
    "def locker(util, internet, transfer, loan, raw):\n",
    "    \"\"\"\n",
    "    Count False Negative and true negative for all classes.\n",
    "    \"\"\"\n",
    "    if raw[0] == 1:\n",
    "        util[1][0] += 1\n",
    "        internet[1][1] += 1\n",
    "        transfer[1][1] += 1\n",
    "        loan[1][1] += 1\n",
    "    elif raw[3] == 1 or raw[4] == 1:\n",
    "        util[1][1] += 1\n",
    "        internet[1][1] += 1\n",
    "        transfer[1][1] += 1\n",
    "        loan[1][0] += 1\n",
    "    elif raw[1] == 1:\n",
    "        util[1][1] += 1\n",
    "        internet[1][0] += 1\n",
    "        transfer[1][1] += 1\n",
    "        loan[1][1] += 1\n",
    "    elif raw[2] == 1:\n",
    "        util[1][1] += 1\n",
    "        internet[1][1] += 1\n",
    "        transfer[1][0] += 1\n",
    "        loan[1][1] += 1\n",
    "    return\n",
    "\n",
    "def pr_connection_test(target_number=5, test_number=clean_values.shape[0], clean_values=clean_values, net=net):\n",
    "    \"\"\"\n",
    "    Test.\n",
    "    Test number=number of rows to test.\n",
    "    clean_values = test_data.\n",
    "    net = Newral network.\n",
    "    \"\"\"\n",
    "    \n",
    "    items = [49, 42, 15, 48]\n",
    "    true = 0\n",
    "    false = 0\n",
    "    # Matrices with such columns.\n",
    "    # True positive False Positive\n",
    "    # False negative True negative\n",
    "    util = np.zeros((2, 2))\n",
    "    internet = np.zeros((2, 2))\n",
    "    transfer = np.zeros((2, 2))\n",
    "    loan = np.zeros((2, 2))\n",
    "    raw_val = raw_data.values\n",
    "    l_util = 0\n",
    "    l_internet = 0\n",
    "    l_transfer = 0\n",
    "    l_loan = 0\n",
    "    \n",
    "    counter = 0\n",
    "    for raw in clean_values[:test_number]:\n",
    "        user = raw[5]\n",
    "        our_prediction_top = get_range_user(user, top=4, items=items, net=net)\n",
    "        our_prediction = [our_prediction_top[0]]\n",
    "        if 42 in our_prediction:\n",
    "            if raw[0] == 1:\n",
    "                if raw_val[users_map[user]][13 + 42] == 0:\n",
    "                    l_util += 1\n",
    "                true +=1\n",
    "                util[0][0] += 1\n",
    "                internet[1][1] += 1\n",
    "                transfer[1][1] += 1\n",
    "                loan[1][1] += 1\n",
    "            else:\n",
    "                false += 1\n",
    "                util[0][1] += 1\n",
    "                locker(util, internet, transfer, loan, raw)\n",
    "                # Мы добавили лишнюю единицу в util.\n",
    "                util[1][1] -= 1\n",
    "                \n",
    "        elif 49 in our_prediction:\n",
    "            if raw[3] == 1 or raw[4] == 1:\n",
    "                true += 1\n",
    "                if raw_val[users_map[user]][13 + 49] == 0:\n",
    "                    l_loan += 1\n",
    "                util[1][1] += 1\n",
    "                internet[1][1] += 1\n",
    "                transfer[1][1] += 1\n",
    "                loan[0][0] += 1\n",
    "            else:\n",
    "                false += 1\n",
    "                \n",
    "                loan[0][1] += 1\n",
    "                locker(util, internet, transfer, loan, raw)\n",
    "                # Мы добавили лишнюю единицу в util.\n",
    "                loan[1][1] -= 1\n",
    "        elif 15 in our_prediction:\n",
    "            if raw[1] == 1:\n",
    "                true += 1\n",
    "                if raw_val[users_map[user]][13 + 15] == 0:\n",
    "                    l_internet += 1\n",
    "                util[1][1] += 1\n",
    "                internet[0][0] += 1\n",
    "                transfer[1][1] += 1\n",
    "                loan[1][1] += 1\n",
    "            else:\n",
    "                false += 1\n",
    "                internet[0][1] += 1\n",
    "                locker(util, internet, transfer, loan, raw)\n",
    "                # Мы добавили лишнюю единицу в util.\n",
    "                internet[1][1] -= 1\n",
    "                \n",
    "        elif 48 in our_prediction:\n",
    "            if raw[2] == 1:\n",
    "                true += 1\n",
    "                if raw_val[users_map[user]][13 + 48] == 0:\n",
    "                    l_transfer += 1\n",
    "                util[1][1] += 1\n",
    "                internet[1][1] += 1\n",
    "                transfer[0][0] += 1\n",
    "                loan[1][1] += 1\n",
    "            else:\n",
    "                false += 1\n",
    "                transfer[0][1] += 1\n",
    "                locker(util, internet, transfer, loan, raw)\n",
    "                # Мы добавили лишнюю единицу в util.\n",
    "                transfer[1][1] -= 1\n",
    "        counter += 1\n",
    "        #if counter % 500 == 0:\n",
    "            #print(\"Pred: \", our_prediction)\n",
    "            #print(raw[1: 5])\n",
    "    print(\"ЖКУ: \", util, \"ROC: \", util[0][0]/(util[1][0] + util[0][0]) / (1 - util[1][1] / (util[1][1] + util[0][1]))\n",
    "        , \"Precision: \", util[0][0] / (util[0][0] + util[0][1]),\"ls: \", l_util)\n",
    "    print(\"Интернет: \", internet, \"ROC: \", internet[0][0]/(internet[1][0] + internet[0][0]) \n",
    "          / (1 - internet[1][1] / (internet[1][1] + internet[0][1])),\n",
    "         \"Precision: \", internet[0][0] / (internet[0][0] + internet[0][1]),\"ls: \", l_internet )\n",
    "    print(\"Переводы: \", transfer, \"ROC: \", transfer[0][0]/(transfer[1][0] + transfer[0][0]) \n",
    "          / (1 - transfer[1][1] / (transfer[1][1] + transfer[0][1])),\n",
    "         \"Precision: \", transfer[0][0] / (transfer[0][0] + transfer[0][1]),\"ls: \", l_transfer )\n",
    "    print(\"Кредиты: \", loan, \"ROC: \", loan[0][0]/(loan[1][0] + loan[0][0]) \n",
    "          / (1 - loan[1][1] / (loan[1][1] + loan[0][1])),\n",
    "         \"Precision: \", loan[0][0] / (loan[0][0] + loan[0][1]) ,\"ls: \", l_loan)\n",
    "            \n",
    "    return true, false, util, internet, transfer, loan"
   ]
  },
  {
   "cell_type": "code",
   "execution_count": 18,
   "metadata": {},
   "outputs": [
    {
     "name": "stdout",
     "output_type": "stream",
     "text": [
      "Net (\n",
      "  (user_latents): Embedding(1070279, 40)\n",
      "  (item_latents): Embedding(57, 40)\n",
      "  (net_l): InterNet (\n",
      "    (fc1): Linear (80 -> 100)\n",
      "    (fc2): Linear (100 -> 100)\n",
      "    (fc4): Linear (100 -> 1)\n",
      "  )\n",
      ")\n"
     ]
    }
   ],
   "source": [
    "net = Net(raw_pay_train.event_id.unique().shape[0], 57, n_embeddings=40, \n",
    "          alpha=0.9, beta=0.4, alpha_reg=0.001)\n",
    "\n",
    "if use_cuda:\n",
    "    net.cuda()\n",
    "\n",
    "dots = []\n",
    "dots_2 = []\n",
    "accuracy = []\n",
    "optimizer=optim.Adam(net.parameters(), lr=0.0001)\n",
    "print(net)"
   ]
  },
  {
   "cell_type": "code",
   "execution_count": 19,
   "metadata": {
    "collapsed": true
   },
   "outputs": [],
   "source": [
    "def Train_net(batch_size=1024, triplets=triplets, n_epoch=10000,\n",
    "              optimizer=optimizer, net=net):\n",
    "    \n",
    "    \"\"\"\n",
    "    Запускает тренировку сети net на триплетах triplets.\n",
    "    \n",
    "    Ошибка считается согласно статье.\n",
    "    \"\"\"\n",
    "    \n",
    "    net_running_loss = 0.0\n",
    "    running_loss = 0.0\n",
    "    ind = 0\n",
    "\n",
    "    for epoch in range(n_epoch):\n",
    "        # get random batch \n",
    "        numpy_x_sample = get_random_sample(triplets, batch_size)\n",
    "        \n",
    "        user_ids = Variable(torch.from_numpy(\n",
    "            get_users_map(numpy_x_sample.loc[:,\"user_id\"].values.astype(int))).cuda())\n",
    "        left_ids = Variable(torch.from_numpy(numpy_x_sample.loc[:,\"1_x\"].values.astype(int)).cuda())\n",
    "        right_ids = Variable(torch.from_numpy(numpy_x_sample.loc[:,\"1_y\"].values.astype(int)).cuda())\n",
    "        target_y = Variable(torch.from_numpy(numpy_x_sample.loc[:,\"val\"].values.astype(int)).cuda(), requires_grad=False)\n",
    "    \n",
    "        # zero the parameter gradients\n",
    "        optimizer.zero_grad()\n",
    "\n",
    "        # Get sections from embedding matrices.\n",
    "        embedding_user = net.user_latents(user_ids)\n",
    "        embedding_left = net.item_latents(left_ids)\n",
    "        embedding_right = net.item_latents(right_ids) \n",
    "        \n",
    "        # Считаем ошибку.\n",
    "        left_emb = torch.sum(embedding_user * embedding_left, 1)\n",
    "        right_emb = torch.sum(embedding_user * embedding_right, 1)\n",
    "        embedding_margins = left_emb - right_emb\n",
    "        embedding_loss = torch_mean_logloss(embedding_margins, target_y)\n",
    "    \n",
    "        xr = torch.cat((embedding_user,embedding_right), 1)\n",
    "        xl = torch.cat((embedding_user,embedding_left), 1)\n",
    "    \n",
    "        net_margins = net.forward(xl,xr)\n",
    "        net_loss = torch_mean_logloss(net_margins, target_y)\n",
    "        net_running_loss += net_margins.data[0]\n",
    "        regularization = torch_mean_l2(embedding_user) + torch_mean_l2(embedding_left) + \\\n",
    "        torch_mean_l2(embedding_right)\n",
    "        ranking_losses = net.alpha * embedding_loss + net.beta * net_loss\n",
    "        target = ranking_losses + net.alpha_reg * regularization\n",
    "    \n",
    "        # backward pass\n",
    "        target.backward()\n",
    "        optimizer.step()\n",
    "    \n",
    "        # print statistics\n",
    "        running_loss += target.data[0]\n",
    "        #dots.append(target.data[0])\n",
    "        #dots_2.append(running_loss / (epoch + 1))\n",
    "        ind+=1\n",
    "        if ind % 5000 == 0:\n",
    "            print('[%d] loss: %.3f' %\n",
    "                  (epoch + 1, running_loss / (epoch + 1)))\n",
    "            true, false, util, internet, transfer, loan = pr_connection_test(test_number=clean_values.shape[0],\n",
    "                                                                             clean_values=clean_values, net=net)\n",
    "            acc = true / (true + false)\n",
    "            accuracy.append(acc)\n",
    "            print(\"accuracy: \", acc)\n",
    "            \n",
    "            #my_NDCG(target_number=5)"
   ]
  },
  {
   "cell_type": "code",
   "execution_count": null,
   "metadata": {
    "collapsed": true
   },
   "outputs": [],
   "source": [
    "%%time\n",
    "Train_net(net=net)"
   ]
  },
  {
   "cell_type": "code",
   "execution_count": 53,
   "metadata": {
    "collapsed": true
   },
   "outputs": [],
   "source": [
    "def get_ktest(top, net=net):\n",
    "    \"\"\"\n",
    "    Test.\n",
    "    Returns how many items in top we will find from interesting classes.\n",
    "    \"\"\"\n",
    "    \n",
    "    items=list(range(12,30)) + [48]\n",
    "    raw_values = raw_data.values\n",
    "    \n",
    "    internet_true = 0\n",
    "    internet_false = 0\n",
    "    transfer_true = 0\n",
    "    transfer_false = 0\n",
    "    for i in tqdm(range(raw_data.shape[0])[:1000]):\n",
    "        user = raw_values[i][0]\n",
    "        our_prediction = get_range_user(user, top=top, items=items, net=net)\n",
    "        if 15 in our_prediction:\n",
    "            if  raw_values[i][3] == 1:\n",
    "                internet_true += 1\n",
    "            else:\n",
    "                internet_false += 1\n",
    "        if 48 in our_prediction:\n",
    "            if  raw_values[i][4] == 1:\n",
    "                transfer_true += 1\n",
    "            else:\n",
    "                transfer_false += 1\n",
    "        \n",
    "    return internet_true, internet_false, transfer_true, transfer_false"
   ]
  },
  {
   "cell_type": "code",
   "execution_count": 20,
   "metadata": {
    "scrolled": true
   },
   "outputs": [
    {
     "name": "stdout",
     "output_type": "stream",
     "text": [
      "Net (\n",
      "  (user_latents): Embedding(1070279, 60)\n",
      "  (item_latents): Embedding(57, 60)\n",
      "  (net_l): InterNet (\n",
      "    (fc1): Linear (120 -> 100)\n",
      "    (fc2): Linear (100 -> 100)\n",
      "    (fc4): Linear (100 -> 1)\n",
      "  )\n",
      ")\n"
     ]
    }
   ],
   "source": [
    "net = Net(raw_pay_train.event_id.unique().shape[0], 57, n_embeddings=60, \n",
    "          alpha=0.9, beta=0.4, alpha_reg=0.001)\n",
    "optimizer=optim.Adam(net.parameters(), lr=0.0001)\n",
    "print(net)\n",
    "\n",
    "def start_batch_eating(iterations=5, net=net):\n",
    "    \"\"\"\n",
    "    Function that automatically takes 3 batches per iteration,\n",
    "    learn net on them and print test metrics.\n",
    "    \"\"\"\n",
    "    \n",
    "    for i in range(iterations):\n",
    "        global raw_data\n",
    "        global triplets\n",
    "        global raw_pay_train\n",
    "        triplets, raw_data, raw_pay_train = get_next_triplets(train_batches_number=3)\n",
    "        # Так как пользователей много сделаем отображение из номеров в range (1, кол-во пользователей).\n",
    "        users = raw_pay_train.event_id.unique()\n",
    "        global users_map\n",
    "        \n",
    "        users_map = {}\n",
    "        print(\"raw_pay_train len: \", raw_pay_train.shape[0])\n",
    "        for index, user in enumerate(users):\n",
    "            users_map[user] = index\n",
    "        print(\"upd1: \", len(users_map), list(users_map)[:3])\n",
    "        needed_categories = ['util_30', 'internet_pay_30', 'transfer_pay_30', 'loan_pay_30', 'loan_w_Card_pay_30', 'event_id']\n",
    "    \n",
    "        conn_test = raw_data[needed_categories]\n",
    "        print(\"conn test: \", conn_test.shape[0])\n",
    "        clean_test = conn_test.drop(conn_test[(conn_test.util_30==0) & (conn_test.internet_pay_30==0) & (conn_test.transfer_pay_30==0)\\\n",
    "                  & (conn_test.loan_pay_30==0) & (conn_test.loan_w_Card_pay_30==0)].index)\n",
    "        global clean_values\n",
    "        clean_values = clean_test.values\n",
    "        print(\"users in test: \", clean_values.shape)\n",
    "        \n",
    "    \n",
    "        if use_cuda:\n",
    "            net.cuda()\n",
    "        \n",
    "        dots = []\n",
    "        dots_2 = []\n",
    "        accuracy = []\n",
    "        \n",
    "        Train_net(triplets=triplets, optimizer=optimizer, net=net)\n",
    "        \n",
    "        #true, false, util, internet, transfer, loan = pr_connection_test(target_number=5, \n",
    "        #                        test_number=clean_values.shape[0], clean_values=clean_values, net=net)\n",
    "        #print(\"Accuracy: \", true/(true + false))"
   ]
  },
  {
   "cell_type": "code",
   "execution_count": 34,
   "metadata": {},
   "outputs": [
    {
     "data": {
      "image/png": "[encoded data removed]",
      "text/plain": [
       "<matplotlib.figure.Figure at 0x7f3b79801198>"
      ]
     },
     "metadata": {},
     "output_type": "display_data"
    }
   ],
   "source": [
    "fig = plt.figure(figsize=(7,7))\n",
    "plt.plot(range(1, len(accuracy) + 1), accuracy)\n",
    "plt.xlabel(\"Iterations in thousands\", fontsize=14)\n",
    "plt.ylabel(\"Accuracy\", fontsize=14)\n",
    "plt.title('Pairwise', fontsize=16)\n",
    "plt.show()"
   ]
  }
 ],
 "metadata": {
  "kernelspec": {
   "display_name": "Python 3",
   "language": "python",
   "name": "python3"
  },
  "language_info": {
   "codemirror_mode": {
    "name": "ipython",
    "version": 3
   },
   "file_extension": ".py",
   "mimetype": "text/x-python",
   "name": "python",
   "nbconvert_exporter": "python",
   "pygments_lexer": "ipython3",
   "version": "3.6.2"
  }
 },
 "nbformat": 4,
 "nbformat_minor": 2
}
