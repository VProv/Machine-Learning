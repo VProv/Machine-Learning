{
 "cells": [
  {
   "cell_type": "code",
   "execution_count": 1,
   "metadata": {
    "collapsed": true,
    "deletable": true,
    "editable": true
   },
   "outputs": [],
   "source": [
    "import numpy as np \n",
    "import pandas as pd\n",
    "import matplotlib.pyplot as plt"
   ]
  },
  {
   "cell_type": "code",
   "execution_count": 2,
   "metadata": {
    "collapsed": false,
    "deletable": true,
    "editable": true
   },
   "outputs": [
    {
     "data": {
      "text/html": [
       "<div>\n",
       "<table border=\"1\" class=\"dataframe\">\n",
       "  <thead>\n",
       "    <tr style=\"text-align: right;\">\n",
       "      <th></th>\n",
       "      <th>sku</th>\n",
       "      <th>categoryLevel1Id</th>\n",
       "      <th>categoryLevel2Id</th>\n",
       "      <th>brandId</th>\n",
       "      <th>property</th>\n",
       "      <th>userName</th>\n",
       "      <th>rating</th>\n",
       "      <th>date</th>\n",
       "      <th>comment</th>\n",
       "      <th>commentNegative</th>\n",
       "      <th>commentPositive</th>\n",
       "    </tr>\n",
       "  </thead>\n",
       "  <tbody>\n",
       "    <tr>\n",
       "      <th>0</th>\n",
       "      <td>20005023</td>\n",
       "      <td>401</td>\n",
       "      <td>4010201</td>\n",
       "      <td>826</td>\n",
       "      <td>[{34: 'f982777489055c6563d68c005fd24aad'}, {36...</td>\n",
       "      <td>b2898a81b45310b30beb8fc0c0a9ce1e</td>\n",
       "      <td>2.0</td>\n",
       "      <td>2013-06-28</td>\n",
       "      <td>2,5 года работала и все...устала! Лампочка гор...</td>\n",
       "      <td>NaN</td>\n",
       "      <td>NaN</td>\n",
       "    </tr>\n",
       "    <tr>\n",
       "      <th>1</th>\n",
       "      <td>20020647</td>\n",
       "      <td>403</td>\n",
       "      <td>4030101</td>\n",
       "      <td>1425</td>\n",
       "      <td>[{34: '9ce895413ebdf6b6dcb69b07dc782591'}, {36...</td>\n",
       "      <td>538c73d64461e13907bb95c51c38bfbc</td>\n",
       "      <td>2.0</td>\n",
       "      <td>2010-07-04</td>\n",
       "      <td>Через 2 месяца после истечении гарантийного ср...</td>\n",
       "      <td>NaN</td>\n",
       "      <td>NaN</td>\n",
       "    </tr>\n",
       "    <tr>\n",
       "      <th>2</th>\n",
       "      <td>20020701</td>\n",
       "      <td>401</td>\n",
       "      <td>4010401</td>\n",
       "      <td>124</td>\n",
       "      <td>[{34: '9ce895413ebdf6b6dcb69b07dc782591'}, {36...</td>\n",
       "      <td>ddca2d0101513a6209db7868eed8be05</td>\n",
       "      <td>4.0</td>\n",
       "      <td>2010-05-27</td>\n",
       "      <td>пользуюсь уже три недели. нареканий ни каких н...</td>\n",
       "      <td>NaN</td>\n",
       "      <td>NaN</td>\n",
       "    </tr>\n",
       "    <tr>\n",
       "      <th>3</th>\n",
       "      <td>30012256</td>\n",
       "      <td>203</td>\n",
       "      <td>2030301</td>\n",
       "      <td>93</td>\n",
       "      <td>[{34: '9ce895413ebdf6b6dcb69b07dc782591'}, {36...</td>\n",
       "      <td>289c20015b3713a82ba5ddf774d996f7</td>\n",
       "      <td>5.0</td>\n",
       "      <td>2016-10-11</td>\n",
       "      <td>Ребят этот системный блок подойдёт для игры кс...</td>\n",
       "      <td>NaN</td>\n",
       "      <td>NaN</td>\n",
       "    </tr>\n",
       "    <tr>\n",
       "      <th>4</th>\n",
       "      <td>30011341</td>\n",
       "      <td>205</td>\n",
       "      <td>2050201</td>\n",
       "      <td>656</td>\n",
       "      <td>[{34: '9ce895413ebdf6b6dcb69b07dc782591'}, {36...</td>\n",
       "      <td>5576f82d149d4f688644fef2322c63ef</td>\n",
       "      <td>5.0</td>\n",
       "      <td>2010-02-26</td>\n",
       "      <td>я считаю, что яри замечательный телефон! Прият...</td>\n",
       "      <td>NaN</td>\n",
       "      <td>NaN</td>\n",
       "    </tr>\n",
       "  </tbody>\n",
       "</table>\n",
       "</div>"
      ],
      "text/plain": [
       "        sku  categoryLevel1Id  categoryLevel2Id  brandId  \\\n",
       "0  20005023               401           4010201      826   \n",
       "1  20020647               403           4030101     1425   \n",
       "2  20020701               401           4010401      124   \n",
       "3  30012256               203           2030301       93   \n",
       "4  30011341               205           2050201      656   \n",
       "\n",
       "                                            property  \\\n",
       "0  [{34: 'f982777489055c6563d68c005fd24aad'}, {36...   \n",
       "1  [{34: '9ce895413ebdf6b6dcb69b07dc782591'}, {36...   \n",
       "2  [{34: '9ce895413ebdf6b6dcb69b07dc782591'}, {36...   \n",
       "3  [{34: '9ce895413ebdf6b6dcb69b07dc782591'}, {36...   \n",
       "4  [{34: '9ce895413ebdf6b6dcb69b07dc782591'}, {36...   \n",
       "\n",
       "                           userName  rating        date  \\\n",
       "0  b2898a81b45310b30beb8fc0c0a9ce1e     2.0  2013-06-28   \n",
       "1  538c73d64461e13907bb95c51c38bfbc     2.0  2010-07-04   \n",
       "2  ddca2d0101513a6209db7868eed8be05     4.0  2010-05-27   \n",
       "3  289c20015b3713a82ba5ddf774d996f7     5.0  2016-10-11   \n",
       "4  5576f82d149d4f688644fef2322c63ef     5.0  2010-02-26   \n",
       "\n",
       "                                             comment commentNegative  \\\n",
       "0  2,5 года работала и все...устала! Лампочка гор...             NaN   \n",
       "1  Через 2 месяца после истечении гарантийного ср...             NaN   \n",
       "2  пользуюсь уже три недели. нареканий ни каких н...             NaN   \n",
       "3  Ребят этот системный блок подойдёт для игры кс...             NaN   \n",
       "4  я считаю, что яри замечательный телефон! Прият...             NaN   \n",
       "\n",
       "  commentPositive  \n",
       "0             NaN  \n",
       "1             NaN  \n",
       "2             NaN  \n",
       "3             NaN  \n",
       "4             NaN  "
      ]
     },
     "execution_count": 2,
     "metadata": {},
     "output_type": "execute_result"
    }
   ],
   "source": [
    "raw_data = pd.read_csv('X_train.csv')\n",
    "raw_data = raw_data.rename(columns={'reting':'rating'})\n",
    "raw_data.head()"
   ]
  },
  {
   "cell_type": "code",
   "execution_count": 3,
   "metadata": {
    "collapsed": false,
    "deletable": true,
    "editable": true
   },
   "outputs": [
    {
     "data": {
      "text/plain": [
       "(15587, 11)"
      ]
     },
     "execution_count": 3,
     "metadata": {},
     "output_type": "execute_result"
    }
   ],
   "source": [
    "raw_data.shape"
   ]
  },
  {
   "cell_type": "code",
   "execution_count": 4,
   "metadata": {
    "collapsed": false,
    "deletable": true,
    "editable": true
   },
   "outputs": [
    {
     "data": {
      "text/plain": [
       "sku                 False\n",
       "categoryLevel1Id    False\n",
       "categoryLevel2Id    False\n",
       "brandId             False\n",
       "property            False\n",
       "userName            False\n",
       "rating              False\n",
       "date                False\n",
       "comment             False\n",
       "commentNegative      True\n",
       "commentPositive      True\n",
       "dtype: bool"
      ]
     },
     "execution_count": 4,
     "metadata": {},
     "output_type": "execute_result"
    }
   ],
   "source": [
    "raw_data.isnull().any()"
   ]
  },
  {
   "cell_type": "markdown",
   "metadata": {
    "deletable": true,
    "editable": true
   },
   "source": [
    "# 1. Данные:\n",
    "\n",
    "### ~15000 отзывов 3232 юзеров о 2698 товарах.\n",
    "### Имеем 11 полей:\n",
    "\n",
    "sku - уникальный id товара (2698).\n",
    "\n",
    "categoryLevel1Id - \"глобальный\" тип товара(компьютеры(203), встраиваемая техника для кухни(401), стиральные машины(403), смартфоны(205), etc) (всего - 48).\n",
    "\n",
    "categoryLevel2Id - подтип товара (для кухни, к примеру - вытяжки, холодильники, посудомойки, etc) (в среднем - по 3-4 на один тип).\n",
    "\n",
    "brandId - бренд (193).\n",
    "\n",
    "property - ?? владелец брэнда (2502).\n",
    "\n",
    "userName - имя пользователя (3232).\n",
    "\n",
    "rating - предсказываемый рейтинг (целое от 1 до 5).\n",
    "\n",
    "date - дата.\n",
    "\n",
    "comment Positive/comment Negative/comment - строка преимуществ/строка недостатков/непустой отзыв.\n"
   ]
  },
  {
   "cell_type": "code",
   "execution_count": 5,
   "metadata": {
    "collapsed": false,
    "deletable": true,
    "editable": true
   },
   "outputs": [
    {
     "data": {
      "image/png": "[encoded data removed]",
      "text/plain": [
       "<matplotlib.figure.Figure at 0x7fdc05abccc0>"
      ]
     },
     "metadata": {},
     "output_type": "display_data"
    }
   ],
   "source": [
    "bins = sorted(raw_data['rating'].unique())\n",
    "plt.hist(raw_data['rating'], label='balance')\n",
    "plt.legend(loc='best')\n",
    "plt.show()"
   ]
  },
  {
   "cell_type": "code",
   "execution_count": 6,
   "metadata": {
    "collapsed": false,
    "deletable": true,
    "editable": true
   },
   "outputs": [
    {
     "name": "stdout",
     "output_type": "stream",
     "text": [
      "Percent of objects in class:\n",
      "1.0 - 9.42 %\n",
      "1.3 - 0.04 %\n",
      "1.7 - 0.01 %\n",
      "2.0 - 5.48 %\n",
      "2.3 - 0.09 %\n",
      "2.7 - 0.1 %\n",
      "3.0 - 7.99 %\n",
      "3.3 - 0.1 %\n",
      "3.7 - 0.1 %\n",
      "4.0 - 16.74 %\n",
      "4.3 - 0.35 %\n",
      "4.7 - 0.5 %\n",
      "5.0 - 59.09 %\n"
     ]
    }
   ],
   "source": [
    "def show_frequences(data):\n",
    "    frequences = []\n",
    "    bins = sorted(data['rating'].unique())\n",
    "    for rate in bins:\n",
    "        frequences += [data[raw_data['rating'] == rate].shape[0]]\n",
    "    frequences = np.array(frequences)\n",
    "    print('Percent of objects in class:')\n",
    "    for i, rate in enumerate(bins):\n",
    "        print(rate, '-', round(100*frequences[i]/np.sum(frequences), 2),'%')\n",
    "show_frequences(raw_data)"
   ]
  },
  {
   "cell_type": "markdown",
   "metadata": {
    "deletable": true,
    "editable": true
   },
   "source": [
    "Выборка сильно несбалансированная.\n",
    "Учитывая незначительность числа дробных оценок, округляем всё до целого, и решаем задачу 5-классовой классификации."
   ]
  },
  {
   "cell_type": "code",
   "execution_count": 7,
   "metadata": {
    "collapsed": false,
    "deletable": true,
    "editable": true
   },
   "outputs": [
    {
     "name": "stdout",
     "output_type": "stream",
     "text": [
      "Percent of objects in class:\n",
      "1 - 9.46 %\n",
      "2 - 5.66 %\n",
      "3 - 8.19 %\n",
      "4 - 17.59 %\n",
      "5 - 59.09 %\n"
     ]
    }
   ],
   "source": [
    "raw_data = raw_data.fillna('')\n",
    "raw_data['rating'] = raw_data['rating'].astype(int)\n",
    "show_frequences(raw_data)"
   ]
  },
  {
   "cell_type": "code",
   "execution_count": 8,
   "metadata": {
    "collapsed": false,
    "deletable": true,
    "editable": true
   },
   "outputs": [],
   "source": [
    "other_usefull_columns = ['sku', 'categoryLevel1Id', 'property', \n",
    "                   'categoryLevel2Id', 'brandId']\n",
    "data_0 = raw_data['comment'].str.cat(raw_data['commentNegative'], sep=' ')\n",
    "data_0 = data_0.str.cat(raw_data['commentPositive'], sep=' ')\n",
    "data_1 = raw_data[other_usefull_columns]\n",
    "target = raw_data['rating']"
   ]
  },
  {
   "cell_type": "code",
   "execution_count": 9,
   "metadata": {
    "collapsed": false
   },
   "outputs": [],
   "source": [
    "def remove_delimiters(data, listOfItems):\n",
    "    ans = data\n",
    "    for item in listOfItems:\n",
    "        ans = ans.str.replace(item, ' ')\n",
    "    return ans\n",
    "data_0 = remove_delimiters(data_0, ['.', ',', '!', '\\d+', '\\s+'])"
   ]
  },
  {
   "cell_type": "code",
   "execution_count": 10,
   "metadata": {
    "collapsed": false
   },
   "outputs": [
    {
     "data": {
      "text/plain": [
       "0     года работала и все устала Лампочка горит и б...\n",
       "1    Через месяца после истечении гарантийного срок...\n",
       "2    пользуюсь уже три недели нареканий ни каких не...\n",
       "3    Ребят этот системный блок подойдёт для игры кс...\n",
       "4    я считаю что яри замечательный телефон Приятно...\n",
       "Name: comment, dtype: object"
      ]
     },
     "execution_count": 10,
     "metadata": {},
     "output_type": "execute_result"
    }
   ],
   "source": [
    "data_0.head()"
   ]
  },
  {
   "cell_type": "code",
   "execution_count": 11,
   "metadata": {
    "collapsed": true,
    "deletable": true,
    "editable": true
   },
   "outputs": [],
   "source": [
    "from sklearn.model_selection import train_test_split"
   ]
  },
  {
   "cell_type": "code",
   "execution_count": 12,
   "metadata": {
    "collapsed": false,
    "deletable": true,
    "editable": true
   },
   "outputs": [],
   "source": [
    "X_train, X_test, y_train, y_test = train_test_split(data_0, target, \n",
    "                                                    test_size=0.3, random_state=6)"
   ]
  },
  {
   "cell_type": "markdown",
   "metadata": {},
   "source": [
    "# 2. Обучение:\n",
    "\n",
    "Пробуем воспользоваться стандартной Support Vector Classification только по отзывам.\n",
    "Для этого векторизуем слова и перебираем параметры по сетке.\n"
   ]
  },
  {
   "cell_type": "code",
   "execution_count": 13,
   "metadata": {
    "collapsed": true,
    "deletable": true,
    "editable": true
   },
   "outputs": [],
   "source": [
    "from sklearn.pipeline import Pipeline\n",
    "from sklearn.feature_extraction.text import CountVectorizer, TfidfTransformer\n",
    "from sklearn.svm import SVC\n",
    "from sklearn.model_selection import GridSearchCV"
   ]
  },
  {
   "cell_type": "code",
   "execution_count": 14,
   "metadata": {
    "collapsed": false
   },
   "outputs": [],
   "source": [
    "pipe = Pipeline([('cvec', CountVectorizer(min_df=5)), \n",
    "                 ('tfidf', TfidfTransformer())])"
   ]
  },
  {
   "cell_type": "code",
   "execution_count": 15,
   "metadata": {
    "collapsed": false
   },
   "outputs": [],
   "source": [
    "X_train = pipe.fit_transform(X_train)"
   ]
  },
  {
   "cell_type": "code",
   "execution_count": 17,
   "metadata": {
    "collapsed": true
   },
   "outputs": [],
   "source": [
    "parameters = {'kernel':('linear', 'rbf'), 'C':(1, 5)}"
   ]
  },
  {
   "cell_type": "code",
   "execution_count": 16,
   "metadata": {
    "collapsed": true
   },
   "outputs": [],
   "source": [
    "parameters = {'kernel':('linear', 'rbf', 'sigmoid', 'poly'), 'C':(1, 2, 5)}"
   ]
  },
  {
   "cell_type": "code",
   "execution_count": 18,
   "metadata": {
    "collapsed": false
   },
   "outputs": [],
   "source": [
    "text_classifier = GridSearchCV(SVC(class_weight='balanced', cache_size=4000), param_grid=parameters)"
   ]
  },
  {
   "cell_type": "code",
   "execution_count": 19,
   "metadata": {
    "collapsed": false
   },
   "outputs": [],
   "source": [
    "X_test = pipe.transform(X_test)"
   ]
  },
  {
   "cell_type": "code",
   "execution_count": 20,
   "metadata": {
    "collapsed": true
   },
   "outputs": [],
   "source": [
    "text_classifier = text_classifier.fit(X_train, y_train)"
   ]
  },
  {
   "cell_type": "code",
   "execution_count": 21,
   "metadata": {
    "collapsed": false
   },
   "outputs": [
    {
     "data": {
      "text/plain": [
       "SVC(C=5, cache_size=4000, class_weight='balanced', coef0=0.0,\n",
       "  decision_function_shape=None, degree=3, gamma='auto', kernel='linear',\n",
       "  max_iter=-1, probability=False, random_state=None, shrinking=True,\n",
       "  tol=0.001, verbose=False)"
      ]
     },
     "execution_count": 21,
     "metadata": {},
     "output_type": "execute_result"
    }
   ],
   "source": [
    "text_classifier.best_estimator_"
   ]
  },
  {
   "cell_type": "code",
   "execution_count": 23,
   "metadata": {
    "collapsed": false
   },
   "outputs": [],
   "source": [
    "predicted = text_classifier.predict(X_test)"
   ]
  },
  {
   "cell_type": "markdown",
   "metadata": {},
   "source": [
    "# 3. Результаты:\n",
    "Построим гистограмму распределений ответов по классам (она должна примерно совпадать с гистограммой количества)\n",
    "и посчитаем основные метрики качества."
   ]
  },
  {
   "cell_type": "code",
   "execution_count": 24,
   "metadata": {
    "collapsed": false,
    "deletable": true,
    "editable": true
   },
   "outputs": [
    {
     "data": {
      "image/png": "[encoded data removed]",
      "text/plain": [
       "<matplotlib.figure.Figure at 0x7fdbf623b0b8>"
      ]
     },
     "metadata": {},
     "output_type": "display_data"
    }
   ],
   "source": [
    "bins = np.linspace(1,5,10)\n",
    "plt.hist(predicted, bins, alpha=0.5, label='predicted')\n",
    "plt.hist(y_test, bins, alpha=0.5, label='real')\n",
    "plt.legend(loc='best')\n",
    "plt.show()"
   ]
  },
  {
   "cell_type": "code",
   "execution_count": 25,
   "metadata": {
    "collapsed": false
   },
   "outputs": [],
   "source": [
    "empty = {'True Positive': pd.Series(np.zeros(6)), \n",
    "        'False Positive': pd.Series(np.zeros(6)),\n",
    "        'False Negative': pd.Series(np.zeros(6)),\n",
    "        'True Negative': pd.Series(np.zeros(6)),\n",
    "        'Accuracy': pd.Series(np.zeros(6)),\n",
    "        'Recall': pd.Series(np.zeros(6)),\n",
    "        'Precision': pd.Series(np.zeros(6))}\n",
    "results = pd.DataFrame(empty, index={1, 2, 3, 4, 5})\n",
    "results = results[['True Positive', 'False Positive', \n",
    "                   'False Negative', 'True Negative', \n",
    "                   'Accuracy', 'Precision', 'Recall']]\n",
    "results = results.rename_axis('Class (Rating)', axis=1)"
   ]
  },
  {
   "cell_type": "code",
   "execution_count": 26,
   "metadata": {
    "collapsed": true
   },
   "outputs": [],
   "source": [
    "def get_metrics(prediction, y_true, results):\n",
    "    for rate in sorted(raw_data['rating'].unique()):\n",
    "        tp = 0\n",
    "        fp = 0\n",
    "        tn = 0\n",
    "        fn = 0\n",
    "        for ind, ans in enumerate(prediction):\n",
    "            if ans == rate and y_true[ind] == rate:\n",
    "                tp += 1\n",
    "            elif ans == rate and y_true[ind] != rate:\n",
    "                fp += 1\n",
    "            elif ans != rate and y_true[ind] == rate:\n",
    "                fn += 1\n",
    "            else:\n",
    "                tn += 1\n",
    "        results.loc[rate] = pd.Series({'True Positive':tp, \n",
    "                                       'False Positive':fp, \n",
    "                                       'False Negative':fn, \n",
    "                                       'True Negative':tn,\n",
    "                                       'Accuracy': round(100 * (tp + tn) / \n",
    "                                       (tp + fp + tn + fn)),\n",
    "                                       'Precision': round(100 * tp / (tp + fp)),\n",
    "                                      'Recall': round(100 * tp / (tp + fn))})\n",
    "    return results"
   ]
  },
  {
   "cell_type": "code",
   "execution_count": 27,
   "metadata": {
    "collapsed": false
   },
   "outputs": [
    {
     "data": {
      "text/html": [
       "<div>\n",
       "<table border=\"1\" class=\"dataframe\">\n",
       "  <thead>\n",
       "    <tr style=\"text-align: right;\">\n",
       "      <th>Class (Rating)</th>\n",
       "      <th>True Positive</th>\n",
       "      <th>False Positive</th>\n",
       "      <th>False Negative</th>\n",
       "      <th>True Negative</th>\n",
       "      <th>Accuracy</th>\n",
       "      <th>Precision</th>\n",
       "      <th>Recall</th>\n",
       "    </tr>\n",
       "  </thead>\n",
       "  <tbody>\n",
       "    <tr>\n",
       "      <th>1</th>\n",
       "      <td>200.0</td>\n",
       "      <td>286.0</td>\n",
       "      <td>232.0</td>\n",
       "      <td>3959.0</td>\n",
       "      <td>89.0</td>\n",
       "      <td>41.0</td>\n",
       "      <td>46.0</td>\n",
       "    </tr>\n",
       "    <tr>\n",
       "      <th>2</th>\n",
       "      <td>43.0</td>\n",
       "      <td>185.0</td>\n",
       "      <td>218.0</td>\n",
       "      <td>4231.0</td>\n",
       "      <td>91.0</td>\n",
       "      <td>19.0</td>\n",
       "      <td>16.0</td>\n",
       "    </tr>\n",
       "    <tr>\n",
       "      <th>3</th>\n",
       "      <td>85.0</td>\n",
       "      <td>334.0</td>\n",
       "      <td>303.0</td>\n",
       "      <td>3955.0</td>\n",
       "      <td>86.0</td>\n",
       "      <td>20.0</td>\n",
       "      <td>22.0</td>\n",
       "    </tr>\n",
       "    <tr>\n",
       "      <th>4</th>\n",
       "      <td>326.0</td>\n",
       "      <td>685.0</td>\n",
       "      <td>515.0</td>\n",
       "      <td>3151.0</td>\n",
       "      <td>74.0</td>\n",
       "      <td>32.0</td>\n",
       "      <td>39.0</td>\n",
       "    </tr>\n",
       "    <tr>\n",
       "      <th>5</th>\n",
       "      <td>2061.0</td>\n",
       "      <td>472.0</td>\n",
       "      <td>694.0</td>\n",
       "      <td>1450.0</td>\n",
       "      <td>75.0</td>\n",
       "      <td>81.0</td>\n",
       "      <td>75.0</td>\n",
       "    </tr>\n",
       "  </tbody>\n",
       "</table>\n",
       "</div>"
      ],
      "text/plain": [
       "Class (Rating)  True Positive  False Positive  False Negative  True Negative  \\\n",
       "1                       200.0           286.0           232.0         3959.0   \n",
       "2                        43.0           185.0           218.0         4231.0   \n",
       "3                        85.0           334.0           303.0         3955.0   \n",
       "4                       326.0           685.0           515.0         3151.0   \n",
       "5                      2061.0           472.0           694.0         1450.0   \n",
       "\n",
       "Class (Rating)  Accuracy  Precision  Recall  \n",
       "1                   89.0       41.0    46.0  \n",
       "2                   91.0       19.0    16.0  \n",
       "3                   86.0       20.0    22.0  \n",
       "4                   74.0       32.0    39.0  \n",
       "5                   75.0       81.0    75.0  "
      ]
     },
     "execution_count": 27,
     "metadata": {},
     "output_type": "execute_result"
    }
   ],
   "source": [
    "results = get_metrics(predicted, np.array(y_test.values), results)\n",
    "results"
   ]
  },
  {
   "cell_type": "code",
   "execution_count": 28,
   "metadata": {
    "collapsed": false
   },
   "outputs": [
    {
     "name": "stdout",
     "output_type": "stream",
     "text": [
      "Weighted accuracy 77.96 %\n"
     ]
    }
   ],
   "source": [
    "def get_frequences(data):\n",
    "    amounts = []\n",
    "    bins = sorted(data['rating'].unique())\n",
    "    for rate in bins:\n",
    "         amounts += [data[data['rating'] == rate].shape[0]]\n",
    "    frequences = np.zeros(len(bins))\n",
    "    amounts = np.array(amounts)\n",
    "    for i, rate in enumerate(bins):\n",
    "        frequences[i] = amounts[i] / np.sum(amounts)\n",
    "    return frequences\n",
    "frequences = get_frequences(raw_data)\n",
    "print('Weighted accuracy', round(np.dot(results['Accuracy'], frequences), 2), '%')"
   ]
  },
  {
   "cell_type": "markdown",
   "metadata": {},
   "source": [
    "В целом получаем точность примерно 78 %."
   ]
  }
 ],
 "metadata": {
  "kernelspec": {
   "display_name": "Python 3",
   "language": "python",
   "name": "python3"
  },
  "language_info": {
   "codemirror_mode": {
    "name": "ipython",
    "version": 3
   },
   "file_extension": ".py",
   "mimetype": "text/x-python",
   "name": "python",
   "nbconvert_exporter": "python",
   "pygments_lexer": "ipython3",
   "version": "3.5.2"
  }
 },
 "nbformat": 4,
 "nbformat_minor": 2
}
